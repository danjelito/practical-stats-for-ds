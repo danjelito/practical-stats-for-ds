{
 "cells": [
  {
   "cell_type": "markdown",
   "metadata": {},
   "source": [
    "# 3 statistical experiment and significance testing"
   ]
  },
  {
   "cell_type": "markdown",
   "metadata": {},
   "source": [
    "when to use different statistical test?<br>\n",
    "\n",
    "- apple claims that their average user's age is 45. we sample the user's age and want to find if their claim is correct<br>\n",
    "\n",
    "    - 1-sample z-test **for mean**<br>\n",
    "        this sucks\n",
    "    - 1-sample t-test **for mean**<br>\n",
    "<br>\n",
    "\n",
    "- we want to know if the proportion of christian in thr USA is 50% male, 50% female\n",
    "    - 1-sample z-test **for proportion**<br>\n",
    "        this sucks\n",
    "    - 1-sample t-test **for proportion**<br>\n",
    "<br>\n",
    "\n",
    "- we want to check if the mean age of men is more than mean age of female\n",
    "    - 2-sample independent test **for mean**<br>\n",
    "<br>\n",
    "\n",
    "- we want to check if the drug A cure more people than drug B<br>\n",
    "    - 2-sample independent test **for proportion**<br>\n",
    "<br>\n",
    "\n",
    "- we want to know if our lecture improve class A knowledge with pre-test ans post-test<br>\n",
    "    - matched/paired sample test<br>\n",
    "<br>\n",
    "\n",
    "- we want to know gender is associated with political preference<br>\n",
    "    - chi-square test **for independence**<br>\n",
    "<br>\n",
    "        |        | repuplican  | democrat  | independent |   \n",
    "        |--------|------|------|-------------|\n",
    "        | male   | 2351 | 1234 | 123         |   \n",
    "        | female | 1344 | 3109 | 144         |      \n",
    "<br>\n",
    "\n",
    "- Your independent variable is social media use, and you assign groups to low, medium, and high levels of social media use to find out if there is a difference in hours of sleep per night<br>\n",
    "    - one-way anova<br>"
   ]
  },
  {
   "cell_type": "markdown",
   "metadata": {},
   "source": [
    "## ab testing"
   ]
  },
  {
   "cell_type": "markdown",
   "metadata": {},
   "source": [
    "- Treatment<br>\n",
    "Something (drug, price, web headline) to which a subject is exposed.<br>\n",
    "- Treatment group<br>\n",
    "A group of subjects exposed to a specific treatment.<br>\n",
    "- Control group<br>\n",
    "A group of subjects exposed to no (or standard) treatment.<br>\n",
    "- Randomization<br>\n",
    "The process of randomly assigning subjects to treatments.<br>\n",
    "- Subjects<br>\n",
    "The items (web visitors, patients, etc.) that are exposed to treatments.<br>\n",
    "- Test statistic<br>\n",
    "The metric used to measure the effect of the treatment.<br>"
   ]
  },
  {
   "cell_type": "markdown",
   "metadata": {},
   "source": [
    "## hypothesis test"
   ]
  },
  {
   "cell_type": "markdown",
   "metadata": {},
   "source": [
    "- Null hypothesis<br>\n",
    "The hypothesis that chance is to blame.<br>\n",
    "- Alternative hypothesis<br>\n",
    "Counterpoint to the null (what you hope to prove).<br>\n",
    "- One-way test<br>\n",
    "Hypothesis test that counts chance results only in one direction.<br>\n",
    "- Two-way test<br>\n",
    "Hypothesis test that counts chance results in two directions."
   ]
  },
  {
   "cell_type": "markdown",
   "metadata": {},
   "source": [
    "## resampling\n",
    "repeatedly sample values from observed data, with a\n",
    "general goal of assessing random variability in a statistic<br>\n",
    "1. bootstrap: to assess the reliability of an estimate<br>\n",
    "2. premutation test: test hypotheses"
   ]
  },
  {
   "cell_type": "markdown",
   "metadata": {},
   "source": [
    "### permutation test"
   ]
  },
  {
   "cell_type": "markdown",
   "metadata": {},
   "source": [
    "- Permutation test<br>\n",
    "The procedure of combining two or more samples together and randomly (or\n",
    "exhaustively) reallocating the observations to resamples.<br>\n",
    "Synonyms: Randomization test, random permutation test, exact test<br>\n",
    "- Resampling<br>\n",
    "Drawing additional samples (“resamples”) from an observed data set.<br>\n",
    "- With or without replacement<br>\n",
    "In sampling, whether or not an item is returned to the sample before the next\n",
    "draw<br>"
   ]
  },
  {
   "cell_type": "markdown",
   "metadata": {},
   "source": [
    "1. Combine the results from the different groups into a single data set.<br>\n",
    "2. Shuffle the combined data and then randomly draw (without replacement) a\n",
    "resample of the same size as group A (clearly it will contain some data from the\n",
    "other groups).<br>\n",
    "3. From the remaining data, randomly draw (without replacement) a resample of\n",
    "the same size as group B.<br>\n",
    "4. Do the same for groups C, D, and so on. You have now collected one set of\n",
    "resamples that mirror the sizes of the original samples.<br>\n",
    "5. Whatever statistic or estimate was calculated for the original samples (e.g., differ‐\n",
    "ence in group proportions), calculate it now for the resamples, and record; this\n",
    "constitutes one permutation iteration.<br>\n",
    "6. Repeat the previous steps R times to yield a permutation distribution of the test\n",
    "statistic.<br>"
   ]
  },
  {
   "cell_type": "code",
   "execution_count": null,
   "metadata": {},
   "outputs": [
    {
     "name": "stdout",
     "output_type": "stream",
     "text": [
      "36\n"
     ]
    },
    {
     "data": {
      "text/html": [
       "<div>\n",
       "<style scoped>\n",
       "    .dataframe tbody tr th:only-of-type {\n",
       "        vertical-align: middle;\n",
       "    }\n",
       "\n",
       "    .dataframe tbody tr th {\n",
       "        vertical-align: top;\n",
       "    }\n",
       "\n",
       "    .dataframe thead th {\n",
       "        text-align: right;\n",
       "    }\n",
       "</style>\n",
       "<table border=\"1\" class=\"dataframe\">\n",
       "  <thead>\n",
       "    <tr style=\"text-align: right;\">\n",
       "      <th></th>\n",
       "      <th>Page</th>\n",
       "      <th>Time</th>\n",
       "    </tr>\n",
       "  </thead>\n",
       "  <tbody>\n",
       "    <tr>\n",
       "      <th>0</th>\n",
       "      <td>Page A</td>\n",
       "      <td>21.0</td>\n",
       "    </tr>\n",
       "    <tr>\n",
       "      <th>1</th>\n",
       "      <td>Page B</td>\n",
       "      <td>253.0</td>\n",
       "    </tr>\n",
       "    <tr>\n",
       "      <th>2</th>\n",
       "      <td>Page A</td>\n",
       "      <td>35.0</td>\n",
       "    </tr>\n",
       "    <tr>\n",
       "      <th>3</th>\n",
       "      <td>Page B</td>\n",
       "      <td>71.0</td>\n",
       "    </tr>\n",
       "    <tr>\n",
       "      <th>4</th>\n",
       "      <td>Page A</td>\n",
       "      <td>67.0</td>\n",
       "    </tr>\n",
       "  </tbody>\n",
       "</table>\n",
       "</div>"
      ],
      "text/plain": [
       "     Page   Time\n",
       "0  Page A   21.0\n",
       "1  Page B  253.0\n",
       "2  Page A   35.0\n",
       "3  Page B   71.0\n",
       "4  Page A   67.0"
      ]
     },
     "metadata": {},
     "output_type": "display_data"
    }
   ],
   "source": [
    "path= data_dir / 'web_page_data.csv'\n",
    "session_times= pd.read_csv(path)\n",
    "session_times['Time']= session_times['Time'] * 100\n",
    "print(len(session_times)) \n",
    "session_times.head()"
   ]
  },
  {
   "cell_type": "code",
   "execution_count": null,
   "metadata": {},
   "outputs": [
    {
     "data": {
      "image/png": "[encoded data removed]",
      "text/plain": [
       "<Figure size 432x288 with 1 Axes>"
      ]
     },
     "metadata": {},
     "output_type": "display_data"
    }
   ],
   "source": [
    "sns.boxplot(data= session_times, y= 'Time', x= 'Page')\n",
    "plt.show()"
   ]
  },
  {
   "cell_type": "code",
   "execution_count": null,
   "metadata": {},
   "outputs": [
    {
     "name": "stdout",
     "output_type": "stream",
     "text": [
      "mean time a: 126.33333333333333\n",
      "mean time b: 162.0\n",
      "difference: 35.66666666666667\n"
     ]
    }
   ],
   "source": [
    "time_a= session_times.loc[(session_times['Page'] == 'Page A'), 'Time'].mean()\n",
    "time_b= session_times.loc[(session_times['Page'] == 'Page B'), 'Time'].mean()\n",
    "\n",
    "print(f'mean time a: {time_a}')\n",
    "print(f'mean time b: {time_b}')\n",
    "print(f'difference: {time_b - time_a}')"
   ]
  },
  {
   "cell_type": "code",
   "execution_count": null,
   "metadata": {},
   "outputs": [
    {
     "data": {
      "text/plain": [
       "Page A    21\n",
       "Page B    15\n",
       "Name: Page, dtype: int64"
      ]
     },
     "metadata": {},
     "output_type": "display_data"
    }
   ],
   "source": [
    "session_times['Page'].value_counts()"
   ]
  },
  {
   "cell_type": "code",
   "execution_count": null,
   "metadata": {},
   "outputs": [
    {
     "name": "stdout",
     "output_type": "stream",
     "text": [
      "[0, 1, 2, 5, 6, 7, 8, 12, 13, 15, 16, 17, 20, 22, 23, 24, 26, 29, 30, 32, 35]\n",
      "Int64Index([3, 4, 9, 10, 11, 14, 18, 19, 21, 25, 27, 28, 31, 33, 34], dtype='int64')\n"
     ]
    }
   ],
   "source": [
    "def perm_fun(df, nA, nB):\n",
    "    idx_A= sorted(df.sample(n= nA, replace= False).index)\n",
    "    idx_B= df.index[~(df.index.isin(idx_A))]\n",
    "    print(idx_A)\n",
    "    print(idx_B)\n",
    "\n",
    "perm_fun(session_times, 21, 15)"
   ]
  },
  {
   "cell_type": "code",
   "execution_count": null,
   "metadata": {},
   "outputs": [
    {
     "name": "stderr",
     "output_type": "stream",
     "text": [
      "C:\\Users\\Anjelito\\AppData\\Local\\Temp\\ipykernel_17508\\3594120095.py:4: FutureWarning: Dropping of nuisance columns in DataFrame reductions (with 'numeric_only=None') is deprecated; in a future version this will raise TypeError.  Select only valid columns before calling the reduction.\n",
      "  mean= df.iloc[idx_B].mean() - df.iloc[idx_A].mean()\n"
     ]
    },
    {
     "data": {
      "text/plain": [
       "Time   -22.847619\n",
       "dtype: float64"
      ]
     },
     "metadata": {},
     "output_type": "display_data"
    }
   ],
   "source": [
    "def perm_fun(df, nA, nB):\n",
    "    idx_A= sorted(df.sample(n= nA, replace= False).index)\n",
    "    idx_B= df.index[~(df.index.isin(idx_A))]\n",
    "    mean= df.iloc[idx_B].mean() - df.iloc[idx_A].mean()\n",
    "    # mean = b-a because b is bigger in original sample\n",
    "    return mean\n",
    "\n",
    "perm_fun(session_times, 21, 15)"
   ]
  },
  {
   "cell_type": "code",
   "execution_count": null,
   "metadata": {},
   "outputs": [
    {
     "name": "stderr",
     "output_type": "stream",
     "text": [
      "C:\\Users\\Anjelito\\AppData\\Local\\Temp\\ipykernel_17508\\3594120095.py:4: FutureWarning: Dropping of nuisance columns in DataFrame reductions (with 'numeric_only=None') is deprecated; in a future version this will raise TypeError.  Select only valid columns before calling the reduction.\n",
      "  mean= df.iloc[idx_B].mean() - df.iloc[idx_A].mean()\n"
     ]
    },
    {
     "data": {
      "image/png": "[encoded data removed]",
      "text/plain": [
       "<Figure size 432x288 with 1 Axes>"
      ]
     },
     "metadata": {},
     "output_type": "display_data"
    }
   ],
   "source": [
    "perm_diffs= [\n",
    "    perm_fun(session_times, 21, 15) for _ in range(1000)\n",
    "]\n",
    "\n",
    "plt.hist(perm_diffs, bins= 10)\n",
    "\n",
    "plt.axvline(x= (time_b - time_a), color= 'red')\n",
    "plt.show()"
   ]
  },
  {
   "cell_type": "code",
   "execution_count": null,
   "metadata": {},
   "outputs": [
    {
     "data": {
      "text/plain": [
       "0.136"
      ]
     },
     "metadata": {},
     "output_type": "display_data"
    }
   ],
   "source": [
    "# area of curve to the right of line\n",
    "np.mean(perm_diffs > (time_b - time_a))"
   ]
  },
  {
   "cell_type": "markdown",
   "metadata": {},
   "source": [
    "## statistical significance and p values"
   ]
  },
  {
   "cell_type": "markdown",
   "metadata": {},
   "source": [
    "- p-value<br>\n",
    "Given a chance model that embodies the null hypothesis, the p-value is the prob‐\n",
    "ability of obtaining results as unusual or extreme as the observed results.<br>\n",
    "- Alpha<br>\n",
    "The probability threshold of “unusualness” that chance results must surpass for\n",
    "actual outcomes to be deemed statistically significant.<br>\n",
    "- Type 1 error<br>\n",
    "Mistakenly concluding an effect is real (when it is due to chance).<br>\n",
    "- Type 2 error<br>\n",
    "Mistakenly concluding an effect is due to chance (when it is real)."
   ]
  },
  {
   "cell_type": "code",
   "execution_count": null,
   "metadata": {},
   "outputs": [
    {
     "data": {
      "text/html": [
       "<div>\n",
       "<style scoped>\n",
       "    .dataframe tbody tr th:only-of-type {\n",
       "        vertical-align: middle;\n",
       "    }\n",
       "\n",
       "    .dataframe tbody tr th {\n",
       "        vertical-align: top;\n",
       "    }\n",
       "\n",
       "    .dataframe thead th {\n",
       "        text-align: right;\n",
       "    }\n",
       "</style>\n",
       "<table border=\"1\" class=\"dataframe\">\n",
       "  <thead>\n",
       "    <tr style=\"text-align: right;\">\n",
       "      <th></th>\n",
       "      <th>outcome</th>\n",
       "      <th>price a</th>\n",
       "      <th>price b</th>\n",
       "    </tr>\n",
       "  </thead>\n",
       "  <tbody>\n",
       "    <tr>\n",
       "      <th>0</th>\n",
       "      <td>conv</td>\n",
       "      <td>200</td>\n",
       "      <td>182</td>\n",
       "    </tr>\n",
       "    <tr>\n",
       "      <th>1</th>\n",
       "      <td>no conv</td>\n",
       "      <td>23539</td>\n",
       "      <td>22406</td>\n",
       "    </tr>\n",
       "  </tbody>\n",
       "</table>\n",
       "</div>"
      ],
      "text/plain": [
       "   outcome  price a  price b\n",
       "0     conv      200      182\n",
       "1  no conv    23539    22406"
      ]
     },
     "metadata": {},
     "output_type": "display_data"
    }
   ],
   "source": [
    "ab_testing= pd.DataFrame({\n",
    "    'outcome': ['conv', 'no conv'],\n",
    "    'price a': [200, 23539],\n",
    "    'price b': [182, 22406]\n",
    "})\n",
    "ab_testing"
   ]
  },
  {
   "cell_type": "code",
   "execution_count": null,
   "metadata": {},
   "outputs": [
    {
     "name": "stdout",
     "output_type": "stream",
     "text": [
      "diff: 0.03675791182059274\n"
     ]
    },
    {
     "data": {
      "text/plain": [
       "(0.8424954715868402, 0.8057375597662475)"
      ]
     },
     "metadata": {},
     "output_type": "display_data"
    }
   ],
   "source": [
    "conv_a, conv_b= (ab_testing.iloc[0, 1:] / ab_testing.sum(axis= 0)[1:]).values\n",
    "conv_a, conv_b= conv_a * 100, conv_b * 100\n",
    "print(f'diff: {conv_a - conv_b}')\n",
    "conv_a, conv_b"
   ]
  },
  {
   "cell_type": "code",
   "execution_count": null,
   "metadata": {},
   "outputs": [],
   "source": [
    "# If the two prices share the same conversion rate, could chance varia‐\n",
    "# tion produce a difference as big as 5%?\n",
    "\n",
    "# 1. Put cards labeled 1 and 0 in a box: this represents the supposed shared conver‐\n",
    "# sion rate of 382 ones and 45,945 zeros = 0.008246 = 0.8246%.\n",
    "# 2. Shuffle and draw out a resample of size 23,739 (same n as price A), and record\n",
    "# how many 1s.\n",
    "# 3. Record the number of 1s in the remaining 22,588 (same n as price B).\n",
    "# 4. Record the difference in proportion of 1s.\n",
    "# 5. Repeat steps 2–4.\n",
    "# 6. How often was the difference >= 0.0368?"
   ]
  },
  {
   "cell_type": "code",
   "execution_count": null,
   "metadata": {},
   "outputs": [
    {
     "data": {
      "text/plain": [
       "0      382\n",
       "1    45945\n",
       "dtype: int64"
      ]
     },
     "metadata": {},
     "output_type": "display_data"
    }
   ],
   "source": [
    "ab_testing[['price a', 'price b']].sum(axis= 1)"
   ]
  },
  {
   "cell_type": "code",
   "execution_count": null,
   "metadata": {},
   "outputs": [
    {
     "data": {
      "text/plain": [
       "price a    23739\n",
       "price b    22588\n",
       "dtype: int64"
      ]
     },
     "metadata": {},
     "output_type": "display_data"
    }
   ],
   "source": [
    "ab_testing[['price a', 'price b']].sum(axis= 0)"
   ]
  },
  {
   "cell_type": "code",
   "execution_count": null,
   "metadata": {},
   "outputs": [
    {
     "name": "stdout",
     "output_type": "stream",
     "text": [
      "observed pct diff: 0.03675791182059274\n"
     ]
    },
    {
     "data": {
      "text/plain": [
       "0.05827776305859962"
      ]
     },
     "metadata": {},
     "output_type": "display_data"
    }
   ],
   "source": [
    "obs_perc_diff= conv_a - conv_b\n",
    "print(f'observed pct diff: {obs_perc_diff}')\n",
    "\n",
    "conversion= [1] * 382 # simulate conversion\n",
    "conversion.extend([0] * 45945) # simulate no conversion\n",
    "conversion= pd.Series(conversion) # convert to series so that it has index\n",
    "\n",
    "100 * perm_fun(conversion, 23739, 22588) # resample to price a and price b"
   ]
  },
  {
   "cell_type": "code",
   "execution_count": null,
   "metadata": {},
   "outputs": [
    {
     "data": {
      "image/png": "[encoded data removed]",
      "text/plain": [
       "<Figure size 432x288 with 1 Axes>"
      ]
     },
     "metadata": {},
     "output_type": "display_data"
    },
    {
     "name": "stdout",
     "output_type": "stream",
     "text": [
      "p-value:\n",
      "0.317\n"
     ]
    }
   ],
   "source": [
    "perm_diffs= [100 * perm_fun(conversion, 23739, 22588) for i in range(1000)]\n",
    "\n",
    "plt.hist(perm_diffs, bins= 10)\n",
    "\n",
    "plt.axvline(x= obs_perc_diff, color= 'red')\n",
    "plt.show()\n",
    "\n",
    "print('p-value:')\n",
    "print(\n",
    "    np.mean([\n",
    "        diff > obs_perc_diff for diff in perm_diffs\n",
    "    ])\n",
    ")"
   ]
  },
  {
   "cell_type": "code",
   "execution_count": null,
   "metadata": {},
   "outputs": [
    {
     "data": {
      "text/html": [
       "<div>\n",
       "<style scoped>\n",
       "    .dataframe tbody tr th:only-of-type {\n",
       "        vertical-align: middle;\n",
       "    }\n",
       "\n",
       "    .dataframe tbody tr th {\n",
       "        vertical-align: top;\n",
       "    }\n",
       "\n",
       "    .dataframe thead th {\n",
       "        text-align: right;\n",
       "    }\n",
       "</style>\n",
       "<table border=\"1\" class=\"dataframe\">\n",
       "  <thead>\n",
       "    <tr style=\"text-align: right;\">\n",
       "      <th></th>\n",
       "      <th>outcome</th>\n",
       "      <th>price a</th>\n",
       "      <th>price b</th>\n",
       "    </tr>\n",
       "  </thead>\n",
       "  <tbody>\n",
       "    <tr>\n",
       "      <th>0</th>\n",
       "      <td>conv</td>\n",
       "      <td>200</td>\n",
       "      <td>182</td>\n",
       "    </tr>\n",
       "    <tr>\n",
       "      <th>1</th>\n",
       "      <td>no conv</td>\n",
       "      <td>23539</td>\n",
       "      <td>22406</td>\n",
       "    </tr>\n",
       "  </tbody>\n",
       "</table>\n",
       "</div>"
      ],
      "text/plain": [
       "   outcome  price a  price b\n",
       "0     conv      200      182\n",
       "1  no conv    23539    22406"
      ]
     },
     "metadata": {},
     "output_type": "display_data"
    }
   ],
   "source": [
    "ab_testing"
   ]
  },
  {
   "cell_type": "code",
   "execution_count": null,
   "metadata": {},
   "outputs": [
    {
     "name": "stdout",
     "output_type": "stream",
     "text": [
      "p-value for single sided test: 0.3498\n"
     ]
    }
   ],
   "source": [
    "# use binomial dist to approximate p-value\n",
    "\n",
    "survivors= np.array([[200, 23539], [182, 22406]])\n",
    "chi2, p, dof, ex= stats.chi2_contingency(survivors)\n",
    "\n",
    "print(f'p-value for single sided test: {p / 2:.4f}')"
   ]
  },
  {
   "cell_type": "markdown",
   "metadata": {},
   "source": [
    "## alpha"
   ]
  },
  {
   "cell_type": "markdown",
   "metadata": {},
   "source": [
    "> The probability that, given a chance model, results as extreme as the observed results\n",
    "could occur."
   ]
  },
  {
   "cell_type": "markdown",
   "metadata": {},
   "source": [
    "## t-test"
   ]
  },
  {
   "cell_type": "code",
   "execution_count": null,
   "metadata": {},
   "outputs": [
    {
     "data": {
      "text/html": [
       "<div>\n",
       "<style scoped>\n",
       "    .dataframe tbody tr th:only-of-type {\n",
       "        vertical-align: middle;\n",
       "    }\n",
       "\n",
       "    .dataframe tbody tr th {\n",
       "        vertical-align: top;\n",
       "    }\n",
       "\n",
       "    .dataframe thead th {\n",
       "        text-align: right;\n",
       "    }\n",
       "</style>\n",
       "<table border=\"1\" class=\"dataframe\">\n",
       "  <thead>\n",
       "    <tr style=\"text-align: right;\">\n",
       "      <th></th>\n",
       "      <th>Page</th>\n",
       "      <th>Time</th>\n",
       "    </tr>\n",
       "  </thead>\n",
       "  <tbody>\n",
       "    <tr>\n",
       "      <th>0</th>\n",
       "      <td>Page A</td>\n",
       "      <td>21.0</td>\n",
       "    </tr>\n",
       "    <tr>\n",
       "      <th>1</th>\n",
       "      <td>Page B</td>\n",
       "      <td>253.0</td>\n",
       "    </tr>\n",
       "    <tr>\n",
       "      <th>2</th>\n",
       "      <td>Page A</td>\n",
       "      <td>35.0</td>\n",
       "    </tr>\n",
       "    <tr>\n",
       "      <th>3</th>\n",
       "      <td>Page B</td>\n",
       "      <td>71.0</td>\n",
       "    </tr>\n",
       "    <tr>\n",
       "      <th>4</th>\n",
       "      <td>Page A</td>\n",
       "      <td>67.0</td>\n",
       "    </tr>\n",
       "  </tbody>\n",
       "</table>\n",
       "</div>"
      ],
      "text/plain": [
       "     Page   Time\n",
       "0  Page A   21.0\n",
       "1  Page B  253.0\n",
       "2  Page A   35.0\n",
       "3  Page B   71.0\n",
       "4  Page A   67.0"
      ]
     },
     "metadata": {},
     "output_type": "display_data"
    }
   ],
   "source": [
    "session_times.head()"
   ]
  },
  {
   "cell_type": "code",
   "execution_count": null,
   "metadata": {},
   "outputs": [
    {
     "data": {
      "text/plain": [
       "Ttest_indResult(statistic=-1.098315562363811, pvalue=0.2815243724570064)"
      ]
     },
     "metadata": {},
     "output_type": "display_data"
    }
   ],
   "source": [
    "time_a= session_times.loc[(session_times['Page'] == 'Page A'), 'Time']\n",
    "time_b= session_times.loc[(session_times['Page'] == 'Page B'), 'Time']\n",
    "\n",
    "res= stats.ttest_ind(time_a, time_b, equal_var= False)\n",
    "res"
   ]
  },
  {
   "cell_type": "code",
   "execution_count": null,
   "metadata": {},
   "outputs": [
    {
     "name": "stdout",
     "output_type": "stream",
     "text": [
      "p-value for single sided test: 0.1408\n"
     ]
    }
   ],
   "source": [
    "print(f'p-value for single sided test: {res.pvalue / 2:.4f}')"
   ]
  },
  {
   "cell_type": "markdown",
   "metadata": {},
   "source": [
    "## anova"
   ]
  },
  {
   "cell_type": "markdown",
   "metadata": {},
   "source": [
    "- Pairwise comparison<br>\n",
    "A hypothesis test (e.g., of means) between two groups among multiple groups.<br>\n",
    "- Omnibus test<br>\n",
    "A single hypothesis test of the overall variance among multiple group means.<br>\n",
    "- Decomposition of variance<br>\n",
    "Separation of components contributing to an individual value (e.g., from the\n",
    "overall average, from a treatment mean, and from a residual error).<br>\n",
    "- F-statistic<br>\n",
    "A standardized statistic that measures the extent to which differences among\n",
    "group means exceed what might be expected in a chance model.<br>\n",
    "- SS<br>\n",
    "“Sum of squares,” referring to deviations from some average value."
   ]
  },
  {
   "cell_type": "markdown",
   "metadata": {},
   "source": [
    "1. Combine all the data together in a single box.\n",
    "2. Shuffle and draw out four resamples of five values each.\n",
    "3. Record the mean of each of the four groups.\n",
    "4. Record the variance among the four group means.\n",
    "5. Repeat steps 2–4 many (say, 1,000) times."
   ]
  },
  {
   "cell_type": "code",
   "execution_count": null,
   "metadata": {},
   "outputs": [
    {
     "data": {
      "text/html": [
       "<div>\n",
       "<style scoped>\n",
       "    .dataframe tbody tr th:only-of-type {\n",
       "        vertical-align: middle;\n",
       "    }\n",
       "\n",
       "    .dataframe tbody tr th {\n",
       "        vertical-align: top;\n",
       "    }\n",
       "\n",
       "    .dataframe thead th {\n",
       "        text-align: right;\n",
       "    }\n",
       "</style>\n",
       "<table border=\"1\" class=\"dataframe\">\n",
       "  <thead>\n",
       "    <tr style=\"text-align: right;\">\n",
       "      <th></th>\n",
       "      <th>Page 1</th>\n",
       "      <th>Page 2</th>\n",
       "      <th>Page 3</th>\n",
       "      <th>Page 4</th>\n",
       "    </tr>\n",
       "  </thead>\n",
       "  <tbody>\n",
       "    <tr>\n",
       "      <th>0</th>\n",
       "      <td>164</td>\n",
       "      <td>178</td>\n",
       "      <td>175</td>\n",
       "      <td>155</td>\n",
       "    </tr>\n",
       "    <tr>\n",
       "      <th>1</th>\n",
       "      <td>172</td>\n",
       "      <td>191</td>\n",
       "      <td>193</td>\n",
       "      <td>166</td>\n",
       "    </tr>\n",
       "    <tr>\n",
       "      <th>2</th>\n",
       "      <td>177</td>\n",
       "      <td>182</td>\n",
       "      <td>171</td>\n",
       "      <td>164</td>\n",
       "    </tr>\n",
       "    <tr>\n",
       "      <th>3</th>\n",
       "      <td>156</td>\n",
       "      <td>185</td>\n",
       "      <td>163</td>\n",
       "      <td>170</td>\n",
       "    </tr>\n",
       "    <tr>\n",
       "      <th>4</th>\n",
       "      <td>195</td>\n",
       "      <td>177</td>\n",
       "      <td>176</td>\n",
       "      <td>168</td>\n",
       "    </tr>\n",
       "  </tbody>\n",
       "</table>\n",
       "</div>"
      ],
      "text/plain": [
       "   Page 1  Page 2  Page 3  Page 4\n",
       "0     164     178     175     155\n",
       "1     172     191     193     166\n",
       "2     177     182     171     164\n",
       "3     156     185     163     170\n",
       "4     195     177     176     168"
      ]
     },
     "metadata": {},
     "output_type": "display_data"
    }
   ],
   "source": [
    "data= {\n",
    "    'Page 1': [164, 172, 177, 156, 195],\n",
    "    'Page 2': [178, 191, 182, 185, 177],\n",
    "    'Page 3': [175, 193, 171, 163, 176],\n",
    "    'Page 4': [155, 166, 164, 170, 168], \n",
    "}\n",
    "\n",
    "web= pd.DataFrame(data)\n",
    "web"
   ]
  },
  {
   "cell_type": "code",
   "execution_count": null,
   "metadata": {},
   "outputs": [
    {
     "data": {
      "text/html": [
       "<div>\n",
       "<style scoped>\n",
       "    .dataframe tbody tr th:only-of-type {\n",
       "        vertical-align: middle;\n",
       "    }\n",
       "\n",
       "    .dataframe tbody tr th {\n",
       "        vertical-align: top;\n",
       "    }\n",
       "\n",
       "    .dataframe thead th {\n",
       "        text-align: right;\n",
       "    }\n",
       "</style>\n",
       "<table border=\"1\" class=\"dataframe\">\n",
       "  <thead>\n",
       "    <tr style=\"text-align: right;\">\n",
       "      <th></th>\n",
       "      <th>page</th>\n",
       "      <th>time</th>\n",
       "    </tr>\n",
       "  </thead>\n",
       "  <tbody>\n",
       "    <tr>\n",
       "      <th>0</th>\n",
       "      <td>Page 1</td>\n",
       "      <td>164</td>\n",
       "    </tr>\n",
       "    <tr>\n",
       "      <th>1</th>\n",
       "      <td>Page 1</td>\n",
       "      <td>172</td>\n",
       "    </tr>\n",
       "    <tr>\n",
       "      <th>2</th>\n",
       "      <td>Page 1</td>\n",
       "      <td>177</td>\n",
       "    </tr>\n",
       "    <tr>\n",
       "      <th>3</th>\n",
       "      <td>Page 1</td>\n",
       "      <td>156</td>\n",
       "    </tr>\n",
       "    <tr>\n",
       "      <th>4</th>\n",
       "      <td>Page 1</td>\n",
       "      <td>195</td>\n",
       "    </tr>\n",
       "  </tbody>\n",
       "</table>\n",
       "</div>"
      ],
      "text/plain": [
       "     page  time\n",
       "0  Page 1   164\n",
       "1  Page 1   172\n",
       "2  Page 1   177\n",
       "3  Page 1   156\n",
       "4  Page 1   195"
      ]
     },
     "metadata": {},
     "output_type": "display_data"
    }
   ],
   "source": [
    "web= web.melt()\n",
    "web.columns = ['page', 'time']\n",
    "web.head()"
   ]
  },
  {
   "cell_type": "code",
   "execution_count": null,
   "metadata": {},
   "outputs": [
    {
     "name": "stdout",
     "output_type": "stream",
     "text": [
      "Observed means: [172.8 182.6 175.6 164.6]\n",
      "Variance: 55.426666666666655\n",
      "pr(prob) is 0.067\n"
     ]
    }
   ],
   "source": [
    "observed_variance = web.groupby('page').mean().var()[0]\n",
    "print('Observed means:', web.groupby('page').mean().values.ravel())\n",
    "print('Variance:', observed_variance)\n",
    "\n",
    "times= web['time']\n",
    "\n",
    "def perm_test(df):\n",
    "    df= df.copy()\n",
    "    df['time']= np.random.permutation(times)\n",
    "    mean= df.groupby('page').mean()\n",
    "    var= np.var(mean, ddof= 1)\n",
    "    return var\n",
    "\n",
    "variances= [perm_test(web) for i in range(1000)]\n",
    "pr_prob= np.sum(variances > observed_variance) / 1000\n",
    "\n",
    "print(f'pr(prob) is {pr_prob}')"
   ]
  },
  {
   "cell_type": "markdown",
   "metadata": {},
   "source": [
    "## f statistics"
   ]
  },
  {
   "cell_type": "code",
   "execution_count": null,
   "metadata": {},
   "outputs": [
    {
     "data": {
      "text/html": [
       "<div>\n",
       "<style scoped>\n",
       "    .dataframe tbody tr th:only-of-type {\n",
       "        vertical-align: middle;\n",
       "    }\n",
       "\n",
       "    .dataframe tbody tr th {\n",
       "        vertical-align: top;\n",
       "    }\n",
       "\n",
       "    .dataframe thead th {\n",
       "        text-align: right;\n",
       "    }\n",
       "</style>\n",
       "<table border=\"1\" class=\"dataframe\">\n",
       "  <thead>\n",
       "    <tr style=\"text-align: right;\">\n",
       "      <th></th>\n",
       "      <th>df</th>\n",
       "      <th>sum_sq</th>\n",
       "      <th>mean_sq</th>\n",
       "      <th>F</th>\n",
       "      <th>PR(&gt;F)</th>\n",
       "    </tr>\n",
       "  </thead>\n",
       "  <tbody>\n",
       "    <tr>\n",
       "      <th>Page</th>\n",
       "      <td>3.0</td>\n",
       "      <td>831.4</td>\n",
       "      <td>277.133333</td>\n",
       "      <td>2.739825</td>\n",
       "      <td>0.077586</td>\n",
       "    </tr>\n",
       "    <tr>\n",
       "      <th>Residual</th>\n",
       "      <td>16.0</td>\n",
       "      <td>1618.4</td>\n",
       "      <td>101.150000</td>\n",
       "      <td>NaN</td>\n",
       "      <td>NaN</td>\n",
       "    </tr>\n",
       "  </tbody>\n",
       "</table>\n",
       "</div>"
      ],
      "text/plain": [
       "            df  sum_sq     mean_sq         F    PR(>F)\n",
       "Page       3.0   831.4  277.133333  2.739825  0.077586\n",
       "Residual  16.0  1618.4  101.150000       NaN       NaN"
      ]
     },
     "metadata": {},
     "output_type": "display_data"
    }
   ],
   "source": [
    "import statsmodels.formula.api as smf\n",
    "import statsmodels.api as sm\n",
    "import pandas as pd\n",
    "\n",
    "four_sessions= pd.read_csv(r'practical-statistics-for-data-scientists\\data\\four_sessions.csv')\n",
    "\n",
    "model = smf.ols('Time ~ Page', data=four_sessions).fit()\n",
    "aov_table = sm.stats.anova_lm(model)\n",
    "aov_table"
   ]
  },
  {
   "cell_type": "markdown",
   "metadata": {},
   "source": [
    "## chi-square"
   ]
  },
  {
   "cell_type": "markdown",
   "metadata": {},
   "source": [
    "- Chi-square statistic<br>\n",
    "A measure of the extent to which some observed data departs from expectation.<br>\n",
    "- Expectation or expected<br>\n",
    "How we would expect the data to turn out under some assumption, typically the\n",
    "null hypothesis."
   ]
  },
  {
   "cell_type": "code",
   "execution_count": null,
   "metadata": {},
   "outputs": [
    {
     "data": {
      "text/html": [
       "<div>\n",
       "<style scoped>\n",
       "    .dataframe tbody tr th:only-of-type {\n",
       "        vertical-align: middle;\n",
       "    }\n",
       "\n",
       "    .dataframe tbody tr th {\n",
       "        vertical-align: top;\n",
       "    }\n",
       "\n",
       "    .dataframe thead th {\n",
       "        text-align: right;\n",
       "    }\n",
       "</style>\n",
       "<table border=\"1\" class=\"dataframe\">\n",
       "  <thead>\n",
       "    <tr style=\"text-align: right;\">\n",
       "      <th></th>\n",
       "      <th>a</th>\n",
       "      <th>b</th>\n",
       "      <th>c</th>\n",
       "    </tr>\n",
       "  </thead>\n",
       "  <tbody>\n",
       "    <tr>\n",
       "      <th>click</th>\n",
       "      <td>14</td>\n",
       "      <td>8</td>\n",
       "      <td>12</td>\n",
       "    </tr>\n",
       "    <tr>\n",
       "      <th>no_click</th>\n",
       "      <td>986</td>\n",
       "      <td>992</td>\n",
       "      <td>988</td>\n",
       "    </tr>\n",
       "  </tbody>\n",
       "</table>\n",
       "</div>"
      ],
      "text/plain": [
       "            a    b    c\n",
       "click      14    8   12\n",
       "no_click  986  992  988"
      ]
     },
     "metadata": {},
     "output_type": "display_data"
    }
   ],
   "source": [
    "# Suppose you are testing three different headlines—A, B, and C—and you run them\n",
    "# each on 1,000 visitors, with the results shown in Table 3-4\n",
    "\n",
    "dict= {\n",
    "    'click': [14, 8, 12],\n",
    "    'no_click': [986, 992, 988],\n",
    "}\n",
    "\n",
    "df_headline_or= pd.DataFrame(dict).transpose()\n",
    "df_headline_or.columns= ['a', 'b', 'c']\n",
    "df_headline_or"
   ]
  },
  {
   "cell_type": "code",
   "execution_count": null,
   "metadata": {},
   "outputs": [
    {
     "data": {
      "text/html": [
       "<div>\n",
       "<style scoped>\n",
       "    .dataframe tbody tr th:only-of-type {\n",
       "        vertical-align: middle;\n",
       "    }\n",
       "\n",
       "    .dataframe tbody tr th {\n",
       "        vertical-align: top;\n",
       "    }\n",
       "\n",
       "    .dataframe thead th {\n",
       "        text-align: right;\n",
       "    }\n",
       "</style>\n",
       "<table border=\"1\" class=\"dataframe\">\n",
       "  <thead>\n",
       "    <tr style=\"text-align: right;\">\n",
       "      <th></th>\n",
       "      <th>a</th>\n",
       "      <th>b</th>\n",
       "      <th>c</th>\n",
       "    </tr>\n",
       "  </thead>\n",
       "  <tbody>\n",
       "    <tr>\n",
       "      <th>click</th>\n",
       "      <td>11.333333</td>\n",
       "      <td>11.333333</td>\n",
       "      <td>11.333333</td>\n",
       "    </tr>\n",
       "    <tr>\n",
       "      <th>no_click</th>\n",
       "      <td>988.666667</td>\n",
       "      <td>988.666667</td>\n",
       "      <td>988.666667</td>\n",
       "    </tr>\n",
       "  </tbody>\n",
       "</table>\n",
       "</div>"
      ],
      "text/plain": [
       "                   a           b           c\n",
       "click      11.333333   11.333333   11.333333\n",
       "no_click  988.666667  988.666667  988.666667"
      ]
     },
     "metadata": {},
     "output_type": "display_data"
    }
   ],
   "source": [
    "# A resampling procedure can test whether\n",
    "# the click rates differ to an extent greater than chance might cause. For this test, we\n",
    "# need to have the “expected” distribution of clicks, and in this case, that would be\n",
    "# under the null hypothesis assumption that all three headlines share the same click\n",
    "# rate, for an overall click rate of 34/3,000. Under this assumption, our contingency\n",
    "# table would look like Table 3-5\n",
    "\n",
    "# Expected if all three headlines have the same click rate (null hypothesis)\n",
    "\n",
    "df_headline_null= df_headline_or.copy()\n",
    "mean= df_headline_null.mean(axis= 1)\n",
    "\n",
    "for col in df_headline_null.columns:\n",
    "    df_headline_null[col]= mean\n",
    "\n",
    "df_headline_null"
   ]
  },
  {
   "cell_type": "markdown",
   "metadata": {},
   "source": [
    "$ R= \\frac{Observed - Expected}{\\sqrt{Expected}}$"
   ]
  },
  {
   "cell_type": "code",
   "execution_count": null,
   "metadata": {},
   "outputs": [
    {
     "data": {
      "text/html": [
       "<div>\n",
       "<style scoped>\n",
       "    .dataframe tbody tr th:only-of-type {\n",
       "        vertical-align: middle;\n",
       "    }\n",
       "\n",
       "    .dataframe tbody tr th {\n",
       "        vertical-align: top;\n",
       "    }\n",
       "\n",
       "    .dataframe thead th {\n",
       "        text-align: right;\n",
       "    }\n",
       "</style>\n",
       "<table border=\"1\" class=\"dataframe\">\n",
       "  <thead>\n",
       "    <tr style=\"text-align: right;\">\n",
       "      <th></th>\n",
       "      <th>a</th>\n",
       "      <th>b</th>\n",
       "      <th>c</th>\n",
       "    </tr>\n",
       "  </thead>\n",
       "  <tbody>\n",
       "    <tr>\n",
       "      <th>click</th>\n",
       "      <td>0.792118</td>\n",
       "      <td>-0.990148</td>\n",
       "      <td>0.198030</td>\n",
       "    </tr>\n",
       "    <tr>\n",
       "      <th>no_click</th>\n",
       "      <td>-0.084809</td>\n",
       "      <td>0.106012</td>\n",
       "      <td>-0.021202</td>\n",
       "    </tr>\n",
       "  </tbody>\n",
       "</table>\n",
       "</div>"
      ],
      "text/plain": [
       "                 a         b         c\n",
       "click     0.792118 -0.990148  0.198030\n",
       "no_click -0.084809  0.106012 -0.021202"
      ]
     },
     "metadata": {},
     "output_type": "display_data"
    }
   ],
   "source": [
    "df_pearson_res= (df_headline_or - df_headline_null) / np.sqrt(df_headline_null)\n",
    "df_pearson_res"
   ]
  },
  {
   "cell_type": "markdown",
   "metadata": {},
   "source": [
    "The chi-square statistic is defined as the sum of the squared Pearson residuals:\n",
    "\n",
    "$ X= \\sum_{i}^{r}\\sum_{j}^{c}R^2 $\n",
    "\n",
    "where r and c are the number of rows and columns, respectively."
   ]
  },
  {
   "cell_type": "code",
   "execution_count": null,
   "metadata": {},
   "outputs": [
    {
     "name": "stdout",
     "output_type": "stream",
     "text": [
      "X= 1.6659394708658917\n"
     ]
    }
   ],
   "source": [
    "x= np.square(df_pearson_res).sum().sum()\n",
    "print(f'X= {x}')"
   ]
  },
  {
   "cell_type": "markdown",
   "metadata": {},
   "source": [
    " Is that more than could reasonably occur in a chance\n",
    "model?\n",
    "\n",
    "We can test with this resampling algorithm:\n",
    "1. Constitute a box with 34 ones (clicks) and 2,966 zeros (no clicks).\n",
    "2. Shuffle, take three separate samples of 1,000, and count the clicks in each.\n",
    "3. Find the squared differences between the shuffled counts and the expected\n",
    "counts and sum them.\n",
    "4. Repeat steps 2 and 3, say, 1,000 times.\n",
    "5. How often does the resampled sum of squared deviations exceed the observed?\n",
    "That’s the p-value"
   ]
  },
  {
   "cell_type": "code",
   "execution_count": null,
   "metadata": {},
   "outputs": [
    {
     "name": "stdout",
     "output_type": "stream",
     "text": [
      "Observed chi2: 1.6659\n",
      "Resampled p-value: 0.4890\n"
     ]
    }
   ],
   "source": [
    "import random\n",
    "\n",
    "box = [1] * 34\n",
    "box.extend([0] * 2966)\n",
    "random.shuffle(box)\n",
    "\n",
    "def chi2(observed, expected):\n",
    "    pearson_residuals = []\n",
    "    for row, expect in zip(observed, expected):\n",
    "        pearson_residuals.append([(observe - expect) ** 2 / expect for observe in row])\n",
    "    # return sum of squares\n",
    "    return np.sum(pearson_residuals)\n",
    "\n",
    "expected_clicks = 34 / 3\n",
    "expected_noclicks = 1000 - expected_clicks\n",
    "expected = [34 / 3, 1000 - 34 / 3]\n",
    "chi2observed = chi2(df_headline_or.values, expected)\n",
    "\n",
    "def perm_fun(box):\n",
    "    sample_clicks = [sum(random.sample(box, 1000)),\n",
    "    sum(random.sample(box, 1000)),\n",
    "    sum(random.sample(box, 1000))]\n",
    "    sample_noclicks = [1000 - n for n in sample_clicks]\n",
    "    return chi2([sample_clicks, sample_noclicks], expected)\n",
    "\n",
    "perm_chi2 = [perm_fun(box) for _ in range(2000)]\n",
    "resampled_p_value = sum(perm_chi2 > chi2observed) / len(perm_chi2)\n",
    "\n",
    "print(f'Observed chi2: {chi2observed:.4f}')\n",
    "print(f'Resampled p-value: {resampled_p_value:.4f}')"
   ]
  },
  {
   "cell_type": "markdown",
   "metadata": {},
   "source": [
    "The distribution of the chi-square statistic can be approximated by a chi-square distribution. The appropriate standard chi-square distribution is determined by the\n",
    "degrees of freedom. For a contingency table,\n",
    "the degrees of freedom are related to the number of rows (r) and columns (c) as\n",
    "follows:\n",
    "- degrees of freedom = (r − 1) × (c − 1)"
   ]
  },
  {
   "cell_type": "code",
   "execution_count": null,
   "metadata": {},
   "outputs": [
    {
     "name": "stdout",
     "output_type": "stream",
     "text": [
      "Observed chi2: 1.6659\n",
      "p-value: 0.4348\n"
     ]
    }
   ],
   "source": [
    "chisq, pvalue, df, expected = stats.chi2_contingency(df_headline_or)\n",
    "print(f'Observed chi2: {chi2observed:.4f}')\n",
    "print(f'p-value: {pvalue:.4f}')"
   ]
  },
  {
   "cell_type": "markdown",
   "metadata": {},
   "source": [
    "The chi-square distribution is a good approximation of the shuffled resampling test\n",
    "just described, except when counts are extremely low (single digits, especially five or\n",
    "fewer)."
   ]
  },
  {
   "cell_type": "markdown",
   "metadata": {},
   "source": [
    "## multi-arm bandit\n",
    "An imaginary slot machine with multiple arms for the customer to choose from, each with different payoffs, here taken to be an analogy for a multitreatment experiment.\n",
    "\n",
    "- Arm\n",
    "\n",
    "A treatment in an experiment (e.g., “headline A in a web test”).\n",
    "\n",
    "- Win\n",
    "\n",
    "The experimental analog of a win at the slot machine (e.g., “customer clicks on the link”)"
   ]
  },
  {
   "cell_type": "markdown",
   "metadata": {},
   "source": [
    "Suppose further that you initially try each\n",
    "arm 50 times and get the following results:\n",
    "- Arm A: 10 wins out of 50\n",
    "- Arm B: 2 win out of 50\n",
    "- Arm C: 4 wins out of 50\n",
    "\n",
    "One extreme approach is to say, “Looks like arm A is a winner—let’s quit trying the\n",
    "other arms and stick with A.” This takes full advantage of the information from the\n",
    "initial trial. If A is truly superior, we get the benefit of that early on. On the other\n",
    "hand, if B or C is truly better, we lose any opportunity to discover that. Another\n",
    "extreme approach is to say, “This all looks to be within the realm of chance—let’s\n",
    "keep pulling them all equally.” This gives maximum opportunity for alternates to A to\n",
    "show themselves. However, in the process, we are deploying what seem to be inferior\n",
    "treatments. How long do we permit that? Bandit algorithms take a hybrid approach:\n",
    "we start pulling A more often, to take advantage of its apparent superiority, but we\n",
    "don’t abandon B and C. We just pull them less often. If A continues to outperform,\n",
    "we continue to shift resources (pulls) away from B and C and pull A more often. If,\n",
    "on the other hand, C starts to do better, and A starts to do worse, we can shift pulls\n",
    "from A back to C. If one of them turns out to be superior to A and this was hidden in\n",
    "the initial trial due to chance, it now has an opportunity to emerge with further\n",
    "testing."
   ]
  },
  {
   "cell_type": "markdown",
   "metadata": {},
   "source": [
    "Bandit algorithms can efficiently handle 3+ treatments and move toward optimal\n",
    "selection of the “best.” For traditional statistical testing procedures, the complexity of\n",
    "decision making for 3+ treatments far outstrips that of the traditional A/B test, and\n",
    "the advantage of bandit algorithms is much greater."
   ]
  },
  {
   "cell_type": "markdown",
   "metadata": {},
   "source": [
    "## power and sample size\n",
    "\n",
    "- Effect size\n",
    "\n",
    "The minimum size of the effect that you hope to be able to detect in a statistical\n",
    "test, such as “a 20% improvement in click rates.”\n",
    "\n",
    "- Power\n",
    "\n",
    "The probability of detecting a given effect size with a given sample size.\n",
    "\n",
    "*For example, we might say (hypothetically) that the\n",
    "probability of distinguishing between a .330 hitter and a .200 hitter in 25 at-bats is\n",
    "0.75. The effect size here is a difference of .130. And “detecting” means that a hypoth‐\n",
    "esis test will reject the null hypothesis of “no difference” and conclude there is a real\n",
    "effect. So the experiment of 25 at-bats (n = 25) for two hitters, with an effect size of\n",
    "0.130, has (hypothetical) power of 0.75, or 75%.*\n",
    "\n",
    "- Significance level\n",
    "\n",
    "The statistical significance level at which the test will be conducted"
   ]
  },
  {
   "cell_type": "markdown",
   "metadata": {},
   "source": [
    "**the bigger the actual difference\n",
    "between treatments A and B, the greater the probability that our experiment will\n",
    "reveal it; and the smaller the difference, the more data will be needed to detect it**"
   ]
  },
  {
   "cell_type": "markdown",
   "metadata": {},
   "source": [
    "In summary, for calculating power or required sample size, there are four moving\n",
    "parts:<br>\n",
    "    • Sample size<br>\n",
    "    • Effect size you want to detect<br>\n",
    "    • Significance level (alpha) at which the test will be conducted<br>\n",
    "    • Power<br>"
   ]
  },
  {
   "cell_type": "markdown",
   "metadata": {},
   "source": [
    "### Sample size\n",
    "\n",
    "Suppose you are looking at click-through rates (clicks as a percentage of\n",
    "exposures), and testing a new ad against an existing ad. How many clicks do you need\n",
    "to accumulate in the study?\n",
    "\n",
    "For example, suppose current click-through rates are about 1.1%, and you are seeking\n",
    "a 10% boost to 1.21%. So we have two boxes: box A with 1.1% ones (say, 110 ones and\n",
    "9,890 zeros), and box B with 1.21% ones (say, 121 ones and 9,879 zeros)"
   ]
  },
  {
   "cell_type": "code",
   "execution_count": null,
   "metadata": {},
   "outputs": [
    {
     "name": "stdout",
     "output_type": "stream",
     "text": [
      "Sample Size per group: 116602.393\n"
     ]
    }
   ],
   "source": [
    "import statsmodels.api as sm\n",
    "\n",
    "effect_size = sm.stats.proportion_effectsize(0.0121, 0.0110) \n",
    "analysis = sm.stats.TTestIndPower()\n",
    "result = analysis.solve_power(effect_size=effect_size, alpha=0.05, power=0.8, alternative='larger')\n",
    "print('Sample Size per group: %.3f' % result)"
   ]
  },
  {
   "cell_type": "code",
   "execution_count": null,
   "metadata": {},
   "outputs": [
    {
     "name": "stdout",
     "output_type": "stream",
     "text": [
      "Sample Size per group: 5488.408\n"
     ]
    }
   ],
   "source": [
    "effect_size = sm.stats.proportion_effectsize(0.0110 * 1.5, 0.0110) \n",
    "analysis = sm.stats.TTestIndPower()\n",
    "result = analysis.solve_power(effect_size=effect_size, alpha=0.05, power=0.8, alternative='larger')\n",
    "print('Sample Size per group: %.3f' % result)"
   ]
  },
  {
   "cell_type": "markdown",
   "metadata": {},
   "source": [
    "- Finding out how big a sample size you need requires thinking ahead to the statistical test you plan to conduct.\n",
    "- You must specify the minimum size of the effect that you want to detect.\n",
    "- You must also specify the required probability of detecting that effect size (power).\n",
    "- Finally, you must specify the significance level (alpha) at which the test will be conducted."
   ]
  },
  {
   "cell_type": "markdown",
   "metadata": {},
   "source": [
    "# 4 regression and prediction"
   ]
  },
  {
   "cell_type": "markdown",
   "metadata": {},
   "source": [
    "## simple linear regression"
   ]
  },
  {
   "cell_type": "markdown",
   "metadata": {},
   "source": [
    "$ Y = b_{0} + b_{1}X $\n",
    "\n",
    "$b_{0}$ = intercept <br>\n",
    "$b_{1}$ = slope"
   ]
  },
  {
   "cell_type": "markdown",
   "metadata": {},
   "source": [
    "- Response<br>\n",
    "The variable we are trying to predict.<br>\n",
    "_Synonyms_: \n",
    "dependent variable, Y variable, target, outcome<br>\n",
    "- Independent variable<br>\n",
    "The variable used to predict the response.<br>\n",
    "_Synonyms_: \n",
    "X variable, feature, attribute, predictor<br>\n",
    "- Record<br>\n",
    "The vector of predictor and outcome values for a specific individual or case.<br>\n",
    "_Synonyms_: \n",
    "row, case, instance, example<br>\n",
    "- Intercept<br>\n",
    "The intercept of the regression line—that is, the predicted value when X = 0.<br>\n",
    "_Synonyms_: \n",
    "b0, β0<br>\n",
    "- Regression coefficient<br>\n",
    "The slope of the regression line.<br>\n",
    "_Synonyms_: \n",
    "slope, b1, β1, parameter estimates, weights<br>\n",
    "- Fitted values<br>\n",
    "The estimates Yi obtained from the regression line.<br>\n",
    "_Synonyms_: \n",
    "predicted values<br>\n",
    "- Residuals<br>\n",
    "The difference between the observed values and the fitted values.<br>\n",
    "_Synonyms_: \n",
    "error<br>\n",
    "- Least squares<br>\n",
    "The method of fitting a regression by minimizing the sum of squared residuals.<br>\n",
    "_Synonyms_:\n",
    "ordinary least squares, OLS<br>"
   ]
  },
  {
   "cell_type": "markdown",
   "metadata": {},
   "source": [
    "## multiple linear regression"
   ]
  },
  {
   "cell_type": "markdown",
   "metadata": {},
   "source": [
    "$ Y = b_{0} + b_{1}X_{1} + b_{2}X_{2} + ... + b_{p}X_{p} $"
   ]
  },
  {
   "cell_type": "markdown",
   "metadata": {},
   "source": [
    "- Root mean squared error<br>\n",
    "The square root of the average squared error of the regression (this is the most\n",
    "widely used metric to compare regression models).<br>\n",
    "Synonym:\n",
    "RMSE<br>\n",
    "- Residual standard error<br>\n",
    "The same as the root mean squared error, but adjusted for degrees of freedom.<br>\n",
    "Synonym:\n",
    "RSE<br>\n",
    "- R-squared<br>\n",
    "The proportion of variance explained by the model, from 0 to 1.<br>\n",
    "Synonyms:\n",
    "coefficient of determination, R2<br>\n",
    "- t-statistic<br>\n",
    "The coefficient for a predictor, divided by the standard error of the coefficient,\n",
    "giving a metric to compare the importance of variables in the model. See “t-Tests”\n",
    "on page 110.<br>\n",
    "- Weighted regression<br>\n",
    "Regression with the records having different weights.<br>"
   ]
  },
  {
   "cell_type": "code",
   "execution_count": null,
   "metadata": {},
   "outputs": [
    {
     "name": "stdout",
     "output_type": "stream",
     "text": [
      "Intercept: -521871.368\n",
      "Coefficients:\n",
      " SqFtTotLiving: 228.8306036024076\n",
      " SqFtLot: -0.06046682065306541\n",
      " Bathrooms: -19442.840398321052\n",
      " Bedrooms: -47769.95518521427\n",
      " BldgGrade: 106106.96307898087\n"
     ]
    }
   ],
   "source": [
    "house= pd.read_csv('practical-statistics-for-data-scientists\\data\\house_sales.csv', sep= '\\t')\n",
    "\n",
    "from sklearn.linear_model import LinearRegression\n",
    "predictors = ['SqFtTotLiving', 'SqFtLot', 'Bathrooms', 'Bedrooms', 'BldgGrade']\n",
    "outcome = 'AdjSalePrice'\n",
    "house_lm = LinearRegression()\n",
    "house_lm.fit(house[predictors], house[outcome])\n",
    "\n",
    "print(f'Intercept: {house_lm.intercept_:.3f}')\n",
    "print('Coefficients:')\n",
    "for name, coef in zip(predictors, house_lm.coef_):\n",
    " print(f' {name}: {coef}')"
   ]
  },
  {
   "cell_type": "code",
   "execution_count": null,
   "metadata": {},
   "outputs": [
    {
     "data": {
      "text/html": [
       "<table class=\"simpletable\">\n",
       "<caption>OLS Regression Results</caption>\n",
       "<tr>\n",
       "  <th>Dep. Variable:</th>      <td>AdjSalePrice</td>   <th>  R-squared:         </th>  <td>   0.541</td>  \n",
       "</tr>\n",
       "<tr>\n",
       "  <th>Model:</th>                   <td>OLS</td>       <th>  Adj. R-squared:    </th>  <td>   0.540</td>  \n",
       "</tr>\n",
       "<tr>\n",
       "  <th>Method:</th>             <td>Least Squares</td>  <th>  F-statistic:       </th>  <td>   5338.</td>  \n",
       "</tr>\n",
       "<tr>\n",
       "  <th>Date:</th>             <td>Sat, 12 Nov 2022</td> <th>  Prob (F-statistic):</th>   <td>  0.00</td>   \n",
       "</tr>\n",
       "<tr>\n",
       "  <th>Time:</th>                 <td>12:45:47</td>     <th>  Log-Likelihood:    </th> <td>-3.1517e+05</td>\n",
       "</tr>\n",
       "<tr>\n",
       "  <th>No. Observations:</th>      <td> 22687</td>      <th>  AIC:               </th>  <td>6.304e+05</td> \n",
       "</tr>\n",
       "<tr>\n",
       "  <th>Df Residuals:</th>          <td> 22681</td>      <th>  BIC:               </th>  <td>6.304e+05</td> \n",
       "</tr>\n",
       "<tr>\n",
       "  <th>Df Model:</th>              <td>     5</td>      <th>                     </th>      <td> </td>     \n",
       "</tr>\n",
       "<tr>\n",
       "  <th>Covariance Type:</th>      <td>nonrobust</td>    <th>                     </th>      <td> </td>     \n",
       "</tr>\n",
       "</table>\n",
       "<table class=\"simpletable\">\n",
       "<tr>\n",
       "        <td></td>           <th>coef</th>     <th>std err</th>      <th>t</th>      <th>P>|t|</th>  <th>[0.025</th>    <th>0.975]</th>  \n",
       "</tr>\n",
       "<tr>\n",
       "  <th>SqFtTotLiving</th> <td>  228.8306</td> <td>    3.899</td> <td>   58.694</td> <td> 0.000</td> <td>  221.189</td> <td>  236.472</td>\n",
       "</tr>\n",
       "<tr>\n",
       "  <th>SqFtLot</th>       <td>   -0.0605</td> <td>    0.061</td> <td>   -0.988</td> <td> 0.323</td> <td>   -0.180</td> <td>    0.059</td>\n",
       "</tr>\n",
       "<tr>\n",
       "  <th>Bathrooms</th>     <td>-1.944e+04</td> <td> 3625.388</td> <td>   -5.363</td> <td> 0.000</td> <td>-2.65e+04</td> <td>-1.23e+04</td>\n",
       "</tr>\n",
       "<tr>\n",
       "  <th>Bedrooms</th>      <td>-4.777e+04</td> <td> 2489.732</td> <td>  -19.187</td> <td> 0.000</td> <td>-5.27e+04</td> <td>-4.29e+04</td>\n",
       "</tr>\n",
       "<tr>\n",
       "  <th>BldgGrade</th>     <td> 1.061e+05</td> <td> 2396.445</td> <td>   44.277</td> <td> 0.000</td> <td> 1.01e+05</td> <td> 1.11e+05</td>\n",
       "</tr>\n",
       "<tr>\n",
       "  <th>const</th>         <td>-5.219e+05</td> <td> 1.57e+04</td> <td>  -33.342</td> <td> 0.000</td> <td>-5.53e+05</td> <td>-4.91e+05</td>\n",
       "</tr>\n",
       "</table>\n",
       "<table class=\"simpletable\">\n",
       "<tr>\n",
       "  <th>Omnibus:</th>       <td>29676.557</td> <th>  Durbin-Watson:     </th>   <td>   1.247</td>  \n",
       "</tr>\n",
       "<tr>\n",
       "  <th>Prob(Omnibus):</th>  <td> 0.000</td>   <th>  Jarque-Bera (JB):  </th> <td>19390738.346</td>\n",
       "</tr>\n",
       "<tr>\n",
       "  <th>Skew:</th>           <td> 6.889</td>   <th>  Prob(JB):          </th>   <td>    0.00</td>  \n",
       "</tr>\n",
       "<tr>\n",
       "  <th>Kurtosis:</th>       <td>145.559</td>  <th>  Cond. No.          </th>   <td>2.86e+05</td>  \n",
       "</tr>\n",
       "</table><br/><br/>Notes:<br/>[1] Standard Errors assume that the covariance matrix of the errors is correctly specified.<br/>[2] The condition number is large, 2.86e+05. This might indicate that there are<br/>strong multicollinearity or other numerical problems."
      ],
      "text/plain": [
       "<class 'statsmodels.iolib.summary.Summary'>\n",
       "\"\"\"\n",
       "                            OLS Regression Results                            \n",
       "==============================================================================\n",
       "Dep. Variable:           AdjSalePrice   R-squared:                       0.541\n",
       "Model:                            OLS   Adj. R-squared:                  0.540\n",
       "Method:                 Least Squares   F-statistic:                     5338.\n",
       "Date:                Sat, 12 Nov 2022   Prob (F-statistic):               0.00\n",
       "Time:                        12:45:47   Log-Likelihood:            -3.1517e+05\n",
       "No. Observations:               22687   AIC:                         6.304e+05\n",
       "Df Residuals:                   22681   BIC:                         6.304e+05\n",
       "Df Model:                           5                                         \n",
       "Covariance Type:            nonrobust                                         \n",
       "=================================================================================\n",
       "                    coef    std err          t      P>|t|      [0.025      0.975]\n",
       "---------------------------------------------------------------------------------\n",
       "SqFtTotLiving   228.8306      3.899     58.694      0.000     221.189     236.472\n",
       "SqFtLot          -0.0605      0.061     -0.988      0.323      -0.180       0.059\n",
       "Bathrooms     -1.944e+04   3625.388     -5.363      0.000   -2.65e+04   -1.23e+04\n",
       "Bedrooms      -4.777e+04   2489.732    -19.187      0.000   -5.27e+04   -4.29e+04\n",
       "BldgGrade      1.061e+05   2396.445     44.277      0.000    1.01e+05    1.11e+05\n",
       "const         -5.219e+05   1.57e+04    -33.342      0.000   -5.53e+05   -4.91e+05\n",
       "==============================================================================\n",
       "Omnibus:                    29676.557   Durbin-Watson:                   1.247\n",
       "Prob(Omnibus):                  0.000   Jarque-Bera (JB):         19390738.346\n",
       "Skew:                           6.889   Prob(JB):                         0.00\n",
       "Kurtosis:                     145.559   Cond. No.                     2.86e+05\n",
       "==============================================================================\n",
       "\n",
       "Notes:\n",
       "[1] Standard Errors assume that the covariance matrix of the errors is correctly specified.\n",
       "[2] The condition number is large, 2.86e+05. This might indicate that there are\n",
       "strong multicollinearity or other numerical problems.\n",
       "\"\"\""
      ]
     },
     "metadata": {},
     "output_type": "display_data"
    }
   ],
   "source": [
    "import statsmodels.api as sm\n",
    "model = sm.OLS(house[outcome], house[predictors].assign(const=1))\n",
    "results = model.fit()\n",
    "results.summary()"
   ]
  },
  {
   "cell_type": "code",
   "execution_count": null,
   "metadata": {},
   "outputs": [
    {
     "name": "stdout",
     "output_type": "stream",
     "text": [
      "r^2 score: 0.5405875253381902\n",
      "rmse: 261220.19743696266\n"
     ]
    }
   ],
   "source": [
    "# rmse\n",
    "from sklearn.metrics import r2_score, mean_squared_error\n",
    "\n",
    "y_pred= house_lm.predict(house[predictors])\n",
    "print(f'r^2 score: {r2_score(house[outcome], y_pred)}')\n",
    "print(f'rmse: {np.sqrt(mean_squared_error(house[outcome], y_pred))}')"
   ]
  },
  {
   "cell_type": "markdown",
   "metadata": {},
   "source": [
    "## categorical vars"
   ]
  },
  {
   "cell_type": "markdown",
   "metadata": {},
   "source": [
    "- Dummy variables<br>\n",
    "Binary 0–1 variables derived by recoding factor data for use in regression and\n",
    "other models.<br>\n",
    "- Reference coding<br>\n",
    "The most common type of coding used by statisticians, in which one level of a\n",
    "factor is used as a reference and other factors are compared to that level.<br>\n",
    "Synonym: treatment coding\n",
    "- One hot encoder<br>\n",
    "A common type of coding used in the machine learning community in which all\n",
    "factor levels are retained. While useful for certain machine learning algorithms,\n",
    "this approach is not appropriate for multiple linear regression.<br>\n",
    "- Deviation coding<br>\n",
    "A type of coding that compares each level against the overall mean as opposed to\n",
    "the reference level.<br>\n",
    "Synonym: sum contrast"
   ]
  },
  {
   "cell_type": "code",
   "execution_count": null,
   "metadata": {},
   "outputs": [
    {
     "data": {
      "text/html": [
       "<div>\n",
       "<style scoped>\n",
       "    .dataframe tbody tr th:only-of-type {\n",
       "        vertical-align: middle;\n",
       "    }\n",
       "\n",
       "    .dataframe tbody tr th {\n",
       "        vertical-align: top;\n",
       "    }\n",
       "\n",
       "    .dataframe thead th {\n",
       "        text-align: right;\n",
       "    }\n",
       "</style>\n",
       "<table border=\"1\" class=\"dataframe\">\n",
       "  <thead>\n",
       "    <tr style=\"text-align: right;\">\n",
       "      <th></th>\n",
       "      <th>Single Family</th>\n",
       "      <th>Townhouse</th>\n",
       "    </tr>\n",
       "  </thead>\n",
       "  <tbody>\n",
       "    <tr>\n",
       "      <th>1</th>\n",
       "      <td>0</td>\n",
       "      <td>0</td>\n",
       "    </tr>\n",
       "    <tr>\n",
       "      <th>2</th>\n",
       "      <td>1</td>\n",
       "      <td>0</td>\n",
       "    </tr>\n",
       "    <tr>\n",
       "      <th>3</th>\n",
       "      <td>1</td>\n",
       "      <td>0</td>\n",
       "    </tr>\n",
       "    <tr>\n",
       "      <th>4</th>\n",
       "      <td>1</td>\n",
       "      <td>0</td>\n",
       "    </tr>\n",
       "    <tr>\n",
       "      <th>5</th>\n",
       "      <td>1</td>\n",
       "      <td>0</td>\n",
       "    </tr>\n",
       "  </tbody>\n",
       "</table>\n",
       "</div>"
      ],
      "text/plain": [
       "   Single Family  Townhouse\n",
       "1              0          0\n",
       "2              1          0\n",
       "3              1          0\n",
       "4              1          0\n",
       "5              1          0"
      ]
     },
     "metadata": {},
     "output_type": "display_data"
    }
   ],
   "source": [
    "# one hot encoding\n",
    "\n",
    "pd.get_dummies(house['PropertyType'], drop_first= True).head()\n",
    "# use drop first to avoid multicolinearoty"
   ]
  },
  {
   "cell_type": "markdown",
   "metadata": {},
   "source": [
    "### categorical var with many levels"
   ]
  },
  {
   "cell_type": "code",
   "execution_count": null,
   "metadata": {},
   "outputs": [
    {
     "data": {
      "text/plain": [
       "Index(['DocumentDate', 'SalePrice', 'PropertyID', 'PropertyType', 'ym',\n",
       "       'zhvi_px', 'zhvi_idx', 'AdjSalePrice', 'NbrLivingUnits', 'SqFtLot',\n",
       "       'SqFtTotLiving', 'SqFtFinBasement', 'Bathrooms', 'Bedrooms',\n",
       "       'BldgGrade', 'YrBuilt', 'YrRenovated', 'TrafficNoise', 'LandVal',\n",
       "       'ImpsVal', 'ZipCode', 'NewConstruction'],\n",
       "      dtype='object')"
      ]
     },
     "metadata": {},
     "output_type": "display_data"
    }
   ],
   "source": [
    "house.columns"
   ]
  },
  {
   "cell_type": "code",
   "execution_count": null,
   "metadata": {},
   "outputs": [
    {
     "name": "stdout",
     "output_type": "stream",
     "text": [
      "0    16\n",
      "1    16\n",
      "2    16\n",
      "3    16\n",
      "4    16\n",
      "Name: ZipGroup, dtype: int64\n"
     ]
    }
   ],
   "source": [
    "from sklearn.linear_model import LinearRegression\n",
    "import pandas as pd\n",
    "import numpy as np\n",
    "\n",
    "house = pd.read_csv('practical-statistics-for-data-scientists\\data\\house_sales.csv', sep='\\t')\n",
    "\n",
    "predictors = ['SqFtTotLiving', 'SqFtLot', 'Bathrooms', \n",
    "              'Bedrooms', 'BldgGrade']\n",
    "outcome = 'AdjSalePrice'\n",
    "\n",
    "house_lm = LinearRegression()\n",
    "house_lm.fit(house[predictors], house[outcome])\n",
    "\n",
    "zip_groups = pd.DataFrame([\n",
    "    *pd.DataFrame({\n",
    "        'ZipCode': house['ZipCode'],\n",
    "        'residual' : house[outcome] - house_lm.predict(house[predictors]),\n",
    "    }) # residual of each rows\n",
    "    .groupby(['ZipCode']) # group by zipcode\n",
    "    .apply(lambda x: {\n",
    "        'ZipCode': x.iloc[0,0],\n",
    "        'count': len(x),\n",
    "        'median_residual': x.residual.median()\n",
    "    })\n",
    "]).sort_values('median_residual')\n",
    "zip_groups['cum_count'] = np.cumsum(zip_groups['count'])\n",
    "zip_groups['ZipGroup'] = pd.qcut(zip_groups['cum_count'], 5, labels=False, retbins=False)\n",
    "zip_groups.head()\n",
    "print(zip_groups.ZipGroup.value_counts().sort_index())"
   ]
  },
  {
   "cell_type": "code",
   "execution_count": null,
   "metadata": {},
   "outputs": [
    {
     "data": {
      "text/html": [
       "<div>\n",
       "<style scoped>\n",
       "    .dataframe tbody tr th:only-of-type {\n",
       "        vertical-align: middle;\n",
       "    }\n",
       "\n",
       "    .dataframe tbody tr th {\n",
       "        vertical-align: top;\n",
       "    }\n",
       "\n",
       "    .dataframe thead th {\n",
       "        text-align: right;\n",
       "    }\n",
       "</style>\n",
       "<table border=\"1\" class=\"dataframe\">\n",
       "  <thead>\n",
       "    <tr style=\"text-align: right;\">\n",
       "      <th></th>\n",
       "      <th>ZipCode</th>\n",
       "      <th>residual</th>\n",
       "    </tr>\n",
       "  </thead>\n",
       "  <tbody>\n",
       "    <tr>\n",
       "      <th>1</th>\n",
       "      <td>98002</td>\n",
       "      <td>-123750.814194</td>\n",
       "    </tr>\n",
       "    <tr>\n",
       "      <th>2</th>\n",
       "      <td>98166</td>\n",
       "      <td>-59145.413089</td>\n",
       "    </tr>\n",
       "    <tr>\n",
       "      <th>3</th>\n",
       "      <td>98166</td>\n",
       "      <td>190108.725716</td>\n",
       "    </tr>\n",
       "    <tr>\n",
       "      <th>4</th>\n",
       "      <td>98168</td>\n",
       "      <td>-198788.774412</td>\n",
       "    </tr>\n",
       "    <tr>\n",
       "      <th>5</th>\n",
       "      <td>98168</td>\n",
       "      <td>-91774.996129</td>\n",
       "    </tr>\n",
       "  </tbody>\n",
       "</table>\n",
       "</div>"
      ],
      "text/plain": [
       "   ZipCode       residual\n",
       "1    98002 -123750.814194\n",
       "2    98166  -59145.413089\n",
       "3    98166  190108.725716\n",
       "4    98168 -198788.774412\n",
       "5    98168  -91774.996129"
      ]
     },
     "metadata": {},
     "output_type": "display_data"
    }
   ],
   "source": [
    "pd.DataFrame({\n",
    "        'ZipCode': house['ZipCode'],\n",
    "        'residual' : house[outcome] - house_lm.predict(house[predictors]),\n",
    "    }).head()"
   ]
  },
  {
   "cell_type": "code",
   "execution_count": null,
   "metadata": {},
   "outputs": [
    {
     "data": {
      "text/html": [
       "<div>\n",
       "<style scoped>\n",
       "    .dataframe tbody tr th:only-of-type {\n",
       "        vertical-align: middle;\n",
       "    }\n",
       "\n",
       "    .dataframe tbody tr th {\n",
       "        vertical-align: top;\n",
       "    }\n",
       "\n",
       "    .dataframe thead th {\n",
       "        text-align: right;\n",
       "    }\n",
       "</style>\n",
       "<table border=\"1\" class=\"dataframe\">\n",
       "  <thead>\n",
       "    <tr style=\"text-align: right;\">\n",
       "      <th></th>\n",
       "      <th>ZipCode</th>\n",
       "      <th>count</th>\n",
       "      <th>median_residual</th>\n",
       "    </tr>\n",
       "  </thead>\n",
       "  <tbody>\n",
       "    <tr>\n",
       "      <th>36</th>\n",
       "      <td>98057</td>\n",
       "      <td>4</td>\n",
       "      <td>-537321.644462</td>\n",
       "    </tr>\n",
       "    <tr>\n",
       "      <th>27</th>\n",
       "      <td>98043</td>\n",
       "      <td>1</td>\n",
       "      <td>-307661.343614</td>\n",
       "    </tr>\n",
       "    <tr>\n",
       "      <th>46</th>\n",
       "      <td>98092</td>\n",
       "      <td>289</td>\n",
       "      <td>-193569.183599</td>\n",
       "    </tr>\n",
       "    <tr>\n",
       "      <th>23</th>\n",
       "      <td>98038</td>\n",
       "      <td>788</td>\n",
       "      <td>-150066.477035</td>\n",
       "    </tr>\n",
       "    <tr>\n",
       "      <th>31</th>\n",
       "      <td>98051</td>\n",
       "      <td>32</td>\n",
       "      <td>-142352.869593</td>\n",
       "    </tr>\n",
       "  </tbody>\n",
       "</table>\n",
       "</div>"
      ],
      "text/plain": [
       "    ZipCode  count  median_residual\n",
       "36    98057      4   -537321.644462\n",
       "27    98043      1   -307661.343614\n",
       "46    98092    289   -193569.183599\n",
       "23    98038    788   -150066.477035\n",
       "31    98051     32   -142352.869593"
      ]
     },
     "metadata": {},
     "output_type": "display_data"
    }
   ],
   "source": [
    "zip_groups = pd.DataFrame([\n",
    "    *pd.DataFrame({\n",
    "        'ZipCode': house['ZipCode'],\n",
    "        'residual' : house[outcome] - house_lm.predict(house[predictors]),\n",
    "    }) # residual of each rows\n",
    "    .groupby(['ZipCode']) # group by zipcode\n",
    "    .apply(lambda x: {\n",
    "        'ZipCode': x.iloc[0,0], # get first zipcode\n",
    "        'count': len(x), # count number of rows per zipcode\n",
    "        'median_residual': x.residual.median() # get median residual\n",
    "    })\n",
    "]).sort_values('median_residual') # sort ascending by median res\n",
    "zip_groups.head()"
   ]
  },
  {
   "cell_type": "code",
   "execution_count": null,
   "metadata": {},
   "outputs": [
    {
     "name": "stdout",
     "output_type": "stream",
     "text": [
      "22687\n",
      "22687\n"
     ]
    },
    {
     "data": {
      "text/html": [
       "<div>\n",
       "<style scoped>\n",
       "    .dataframe tbody tr th:only-of-type {\n",
       "        vertical-align: middle;\n",
       "    }\n",
       "\n",
       "    .dataframe tbody tr th {\n",
       "        vertical-align: top;\n",
       "    }\n",
       "\n",
       "    .dataframe thead th {\n",
       "        text-align: right;\n",
       "    }\n",
       "</style>\n",
       "<table border=\"1\" class=\"dataframe\">\n",
       "  <thead>\n",
       "    <tr style=\"text-align: right;\">\n",
       "      <th></th>\n",
       "      <th>ZipCode</th>\n",
       "      <th>count</th>\n",
       "      <th>median_residual</th>\n",
       "      <th>cum_count</th>\n",
       "    </tr>\n",
       "  </thead>\n",
       "  <tbody>\n",
       "    <tr>\n",
       "      <th>36</th>\n",
       "      <td>98057</td>\n",
       "      <td>4</td>\n",
       "      <td>-537321.644462</td>\n",
       "      <td>4</td>\n",
       "    </tr>\n",
       "    <tr>\n",
       "      <th>27</th>\n",
       "      <td>98043</td>\n",
       "      <td>1</td>\n",
       "      <td>-307661.343614</td>\n",
       "      <td>5</td>\n",
       "    </tr>\n",
       "    <tr>\n",
       "      <th>46</th>\n",
       "      <td>98092</td>\n",
       "      <td>289</td>\n",
       "      <td>-193569.183599</td>\n",
       "      <td>294</td>\n",
       "    </tr>\n",
       "    <tr>\n",
       "      <th>23</th>\n",
       "      <td>98038</td>\n",
       "      <td>788</td>\n",
       "      <td>-150066.477035</td>\n",
       "      <td>1082</td>\n",
       "    </tr>\n",
       "    <tr>\n",
       "      <th>31</th>\n",
       "      <td>98051</td>\n",
       "      <td>32</td>\n",
       "      <td>-142352.869593</td>\n",
       "      <td>1114</td>\n",
       "    </tr>\n",
       "  </tbody>\n",
       "</table>\n",
       "</div>"
      ],
      "text/plain": [
       "    ZipCode  count  median_residual  cum_count\n",
       "36    98057      4   -537321.644462          4\n",
       "27    98043      1   -307661.343614          5\n",
       "46    98092    289   -193569.183599        294\n",
       "23    98038    788   -150066.477035       1082\n",
       "31    98051     32   -142352.869593       1114"
      ]
     },
     "metadata": {},
     "output_type": "display_data"
    }
   ],
   "source": [
    "zip_groups['cum_count'] = np.cumsum(zip_groups['count']) # cumsum count\n",
    "print(zip_groups['cum_count'].max())\n",
    "print(len(house))\n",
    "zip_groups.head()"
   ]
  },
  {
   "cell_type": "code",
   "execution_count": null,
   "metadata": {},
   "outputs": [
    {
     "data": {
      "text/html": [
       "<div>\n",
       "<style scoped>\n",
       "    .dataframe tbody tr th:only-of-type {\n",
       "        vertical-align: middle;\n",
       "    }\n",
       "\n",
       "    .dataframe tbody tr th {\n",
       "        vertical-align: top;\n",
       "    }\n",
       "\n",
       "    .dataframe thead th {\n",
       "        text-align: right;\n",
       "    }\n",
       "</style>\n",
       "<table border=\"1\" class=\"dataframe\">\n",
       "  <thead>\n",
       "    <tr style=\"text-align: right;\">\n",
       "      <th></th>\n",
       "      <th>ZipCode</th>\n",
       "      <th>count</th>\n",
       "      <th>median_residual</th>\n",
       "      <th>cum_count</th>\n",
       "      <th>ZipGroup</th>\n",
       "    </tr>\n",
       "  </thead>\n",
       "  <tbody>\n",
       "    <tr>\n",
       "      <th>36</th>\n",
       "      <td>98057</td>\n",
       "      <td>4</td>\n",
       "      <td>-537321.644462</td>\n",
       "      <td>4</td>\n",
       "      <td>0</td>\n",
       "    </tr>\n",
       "    <tr>\n",
       "      <th>27</th>\n",
       "      <td>98043</td>\n",
       "      <td>1</td>\n",
       "      <td>-307661.343614</td>\n",
       "      <td>5</td>\n",
       "      <td>0</td>\n",
       "    </tr>\n",
       "    <tr>\n",
       "      <th>46</th>\n",
       "      <td>98092</td>\n",
       "      <td>289</td>\n",
       "      <td>-193569.183599</td>\n",
       "      <td>294</td>\n",
       "      <td>0</td>\n",
       "    </tr>\n",
       "    <tr>\n",
       "      <th>23</th>\n",
       "      <td>98038</td>\n",
       "      <td>788</td>\n",
       "      <td>-150066.477035</td>\n",
       "      <td>1082</td>\n",
       "      <td>0</td>\n",
       "    </tr>\n",
       "    <tr>\n",
       "      <th>31</th>\n",
       "      <td>98051</td>\n",
       "      <td>32</td>\n",
       "      <td>-142352.869593</td>\n",
       "      <td>1114</td>\n",
       "      <td>0</td>\n",
       "    </tr>\n",
       "  </tbody>\n",
       "</table>\n",
       "</div>"
      ],
      "text/plain": [
       "    ZipCode  count  median_residual  cum_count  ZipGroup\n",
       "36    98057      4   -537321.644462          4         0\n",
       "27    98043      1   -307661.343614          5         0\n",
       "46    98092    289   -193569.183599        294         0\n",
       "23    98038    788   -150066.477035       1082         0\n",
       "31    98051     32   -142352.869593       1114         0"
      ]
     },
     "metadata": {},
     "output_type": "display_data"
    }
   ],
   "source": [
    "# cut data into 5 based on cumulative count\n",
    "zip_groups['ZipGroup'] = pd.qcut(zip_groups['cum_count'], 5, labels=False, retbins=False)\n",
    "zip_groups.head()"
   ]
  },
  {
   "cell_type": "markdown",
   "metadata": {},
   "source": [
    "## stepwise regression"
   ]
  },
  {
   "cell_type": "code",
   "execution_count": null,
   "metadata": {},
   "outputs": [
    {
     "name": "stdout",
     "output_type": "stream",
     "text": [
      "Variables: SqFtTotLiving, SqFtLot, Bathrooms, Bedrooms, BldgGrade, NbrLivingUnits, SqFtFinBasement, YrBuilt, YrRenovated, NewConstruction, PropertyType_Single Family, PropertyType_Townhouse\n",
      "Start: score=647988.32, constant\n",
      "Step: score=633013.35, add SqFtTotLiving\n",
      "Step: score=630793.74, add BldgGrade\n",
      "Step: score=628230.29, add YrBuilt\n",
      "Step: score=627784.16, add Bedrooms\n",
      "Step: score=627602.21, add Bathrooms\n",
      "Step: score=627525.65, add PropertyType_Townhouse\n",
      "Step: score=627525.08, add SqFtFinBasement\n",
      "Step: score=627524.98, add PropertyType_Single Family\n",
      "Step: score=627524.98, unchanged None\n",
      "\n",
      "Intercept: 6178645.017\n",
      "Coefficients:\n",
      " SqFtTotLiving: 199.27755304201446\n",
      " BldgGrade: 137159.56022619864\n",
      " YrBuilt: -3565.424939249452\n",
      " Bedrooms: -51947.38367361421\n",
      " Bathrooms: 42396.16452772033\n",
      " PropertyType_Townhouse: 84479.16203299884\n",
      " SqFtFinBasement: 7.046974967553979\n",
      " PropertyType_Single Family: 22912.05518701766\n"
     ]
    }
   ],
   "source": [
    "from dmba import AIC_score, stepwise_selection\n",
    "\n",
    "predictors = ['SqFtTotLiving', 'SqFtLot', 'Bathrooms', 'Bedrooms',\n",
    "              'BldgGrade', 'PropertyType', 'NbrLivingUnits',\n",
    "              'SqFtFinBasement', 'YrBuilt', 'YrRenovated', \n",
    "              'NewConstruction']\n",
    "\n",
    "X = pd.get_dummies(house[predictors], drop_first=True)\n",
    "X['NewConstruction'] = [1 if nc else 0 for nc in X['NewConstruction']] # if trure convert to 1\n",
    "\n",
    "y = house[outcome]\n",
    "\n",
    "def train_model(variables):\n",
    "    if len(variables) == 0:\n",
    "        return None\n",
    "    model = LinearRegression()\n",
    "    model.fit(X[variables], y)\n",
    "    return model\n",
    "\n",
    "def score_model(model, variables):\n",
    "    if len(variables) == 0:\n",
    "        return AIC_score(y, [y.mean()] * len(y), model, df=1)\n",
    "    return AIC_score(y, model.predict(X[variables]), model)\n",
    "\n",
    "best_model, best_variables = stepwise_selection(X.columns, train_model, score_model, \n",
    "                                                verbose=True)\n",
    "\n",
    "print()\n",
    "print(f'Intercept: {best_model.intercept_:.3f}')\n",
    "print('Coefficients:')\n",
    "for name, coef in zip(best_variables, best_model.coef_):\n",
    "    print(f' {name}: {coef}')"
   ]
  },
  {
   "cell_type": "markdown",
   "metadata": {},
   "source": [
    "## interpreting regression equation"
   ]
  },
  {
   "cell_type": "markdown",
   "metadata": {},
   "source": [
    "- Correlated variables<br>\n",
    "When the predictor variables are highly correlated, it is difficult to interpret the\n",
    "individual coefficients.<br>\n",
    "\n",
    "- Multicollinearity<br>\n",
    "When the predictor variables have perfect, or near-perfect, correlation, the\n",
    "regression can be unstable or impossible to compute.<br>\n",
    "Synonym: collinearity<br>\n",
    "Causes:\n",
    "    1. A variable is included multiple times by error.<br>\n",
    "    2. P dummies, instead of P – 1 dummies, are created from a factor variable<br>\n",
    "    3. Two variables are nearly perfectly correlated with one another<br><br>\n",
    "\n",
    "    > Multicollinearity is not such a problem for nonlinear regression methods like trees, clustering, and nearest-neighbors\n",
    "\n",
    "- Confounding variables<br>\n",
    "An important predictor that, when omitted, leads to spurious relationships in a\n",
    "regression equation.<br>\n",
    "\n",
    "- Main effects<br>\n",
    "The relationship between a predictor and the outcome variable, independent of\n",
    "other variables.<br>\n",
    "\n",
    "- Interactions<br>\n",
    "An interdependent relationship between two or more predictors and the\n",
    "response.<br>\n",
    "\n",
    "    > Model Selection with Interaction Terms<br>\n",
    "In problems involving many variables, several different approaches are commonly taken:<br>\n",
    "1. In some problems, prior knowledge and intuition can guide\n",
    "the choice of which interaction terms to include in the model.<br>\n",
    "2. Stepwise selection (see “Model Selection and Stepwise Regres‐\n",
    "sion” on page 156) can be used to sift through the various\n",
    "models.<br>\n",
    "3. Penalized regression can automatically fit to a large set of pos‐\n",
    "sible interaction terms.<br>\n",
    "4. Use tree models, as\n",
    "well as their descendants, random forest and gradient boosted\n",
    "trees. This class of models automatically searches for optimal\n",
    "interaction terms<br>"
   ]
  },
  {
   "cell_type": "markdown",
   "metadata": {},
   "source": [
    "## regression diagnostics"
   ]
  },
  {
   "cell_type": "markdown",
   "metadata": {},
   "source": [
    "- Standardized residuals<br>\n",
    "Residuals divided by the standard error of the residuals.<br>\n",
    "- Outliers<br>\n",
    "Records (or outcome values) that are distant from the rest of the data (or the pre‐\n",
    "dicted outcome).<br>\n",
    "- Influential value<br>\n",
    "A value or record whose presence or absence makes a big difference in the\n",
    "regression equation.<br>\n",
    "- Leverage<br>\n",
    "The degree of influence that a single record has on a regression equation.\n",
    "Synonym: hat-value<br>\n",
    "- Non-normal residuals<br>\n",
    "Non-normally distributed residuals can invalidate some technical requirements\n",
    "of regression but are usually not a concern in data science.<br>\n",
    "- Heteroskedasticity<br>\n",
    "When some ranges of the outcome experience residuals with higher variance\n",
    "(may indicate a predictor missing from the equation).<br>\n",
    "- Partial residual plots<br>\n",
    "A diagnostic plot to illuminate the relationship between the outcome variable\n",
    "and a single predictor.<br>\n",
    "Synonym: added variables plot<br>"
   ]
  },
  {
   "cell_type": "code",
   "execution_count": null,
   "metadata": {},
   "outputs": [
    {
     "data": {
      "text/plain": [
       "(24333, -4.326731804078567)"
      ]
     },
     "metadata": {},
     "output_type": "display_data"
    }
   ],
   "source": [
    "# outliers\n",
    "\n",
    "import statsmodels.api as sm\n",
    "from statsmodels.stats.outliers_influence import OLSInfluence\n",
    "\n",
    "house_98105 = house.loc[house['ZipCode'] == 98105, ]\n",
    "predictors = ['SqFtTotLiving', 'SqFtLot', 'Bathrooms', 'Bedrooms', 'BldgGrade']\n",
    "outcome = 'AdjSalePrice'\n",
    "\n",
    "house_outlier = sm.OLS(house_98105[outcome], house_98105[predictors].assign(const=1))\n",
    "\n",
    "result_98105 = house_outlier.fit()\n",
    "\n",
    "influence = OLSInfluence(result_98105)\n",
    "sresiduals = influence.resid_studentized_internal\n",
    "sresiduals.idxmin(), sresiduals.min()"
   ]
  },
  {
   "cell_type": "code",
   "execution_count": null,
   "metadata": {},
   "outputs": [
    {
     "name": "stdout",
     "output_type": "stream",
     "text": [
      "AdjSalePrice 119748.0\n",
      "SqFtTotLiving    2900\n",
      "SqFtLot          7276\n",
      "Bathrooms         3.0\n",
      "Bedrooms            6\n",
      "BldgGrade           7\n",
      "Name: 24333, dtype: object\n"
     ]
    }
   ],
   "source": [
    "outlier = house_98105.loc[sresiduals.idxmin(), :]\n",
    "print('AdjSalePrice', outlier[outcome])\n",
    "print(outlier[predictors])"
   ]
  },
  {
   "cell_type": "code",
   "execution_count": null,
   "metadata": {},
   "outputs": [],
   "source": [
    "# influential onservations\n",
    "\n",
    "# For purposes of fitting a regression that reliably predicts future data, identifying\n",
    "# influential observations is useful only in smaller data sets. For regressions involving\n",
    "# many records, it is unlikely that any one observation will carry sufficient weight to\n",
    "# cause extreme influence on the fitted equation (although the regression may still have\n",
    "# big outliers). For purposes of anomaly detection, though, identifying influential\n",
    "# observations can be very useful."
   ]
  },
  {
   "cell_type": "code",
   "execution_count": null,
   "metadata": {},
   "outputs": [
    {
     "name": "stderr",
     "output_type": "stream",
     "text": [
      "c:\\Users\\Anjelito\\miniconda3\\envs\\data_science\\lib\\site-packages\\seaborn\\_decorators.py:36: FutureWarning: Pass the following variables as keyword args: x, y. From version 0.12, the only valid positional argument will be `data`, and passing other arguments without an explicit keyword will result in an error or misinterpretation.\n",
      "  warnings.warn(\n"
     ]
    },
    {
     "data": {
      "text/plain": [
       "Text(0, 0.5, 'abs(residual)')"
      ]
     },
     "metadata": {},
     "output_type": "display_data"
    },
    {
     "data": {
      "image/png": "[encoded data removed]",
      "text/plain": [
       "<Figure size 360x360 with 1 Axes>"
      ]
     },
     "metadata": {},
     "output_type": "display_data"
    }
   ],
   "source": [
    "# heteroskedacity\n",
    "\n",
    "fig, ax = plt.subplots(figsize=(5, 5))\n",
    "sns.regplot(\n",
    "    result_98105.fittedvalues, \n",
    "    np.abs(result_98105.resid),\n",
    "    scatter_kws={'alpha': 0.25}, line_kws={'color': 'C1'},\n",
    "    lowess=True, ax=ax)\n",
    "ax.set_xlabel('predicted')\n",
    "ax.set_ylabel('abs(residual)')\n",
    "\n",
    "# Heteroskedasticity indicates that prediction errors differ for differ‐\n",
    "# ent ranges of the predicted value, and may suggest an incomplete\n",
    "# model. For example, the heteroskedasticity in lm_98105 may indi‐\n",
    "# cate that the regression has left something unaccounted for in high-and low-range homes.\n"
   ]
  },
  {
   "cell_type": "markdown",
   "metadata": {},
   "source": [
    "## polynomial regression"
   ]
  },
  {
   "cell_type": "markdown",
   "metadata": {},
   "source": [
    "- Polynomial regression<br>\n",
    "Adds polynomial terms (squares, cubes, etc.) to a regression.<br>\n",
    "- Spline regression<br>\n",
    "Fitting a smooth curve with a series of polynomial segments.<br>\n",
    "- Knots<br>\n",
    "Values that separate spline segments.<br>\n",
    "- Generalized additive models<br>\n",
    "Spline models with automated selection of knots.<br>\n",
    "Synonym: GAM"
   ]
  },
  {
   "cell_type": "markdown",
   "metadata": {},
   "source": [
    "## spline regression"
   ]
  },
  {
   "cell_type": "code",
   "execution_count": null,
   "metadata": {},
   "outputs": [],
   "source": [
    "import statsmodels.formula.api as smf\n",
    "\n",
    "formula = 'AdjSalePrice ~ bs(SqFtTotLiving, df=6, degree=3) + ' +\\\n",
    "    'SqFtLot + Bathrooms + Bedrooms + BldgGrade'\n",
    "model_spline = smf.ols(formula=formula, data=house_98105)\n",
    "result_spline = model_spline.fit()"
   ]
  },
  {
   "cell_type": "markdown",
   "metadata": {},
   "source": [
    "# 5. classification"
   ]
  },
  {
   "cell_type": "markdown",
   "metadata": {},
   "source": [
    "- Accuracy<br>\n",
    "The percent (or proportion) of cases classified correctly.<br>\n",
    "- Confusion matrix<br>\n",
    "A tabular display (2×2 in the binary case) of the record counts by their predicted\n",
    "and actual classification status.<br>\n",
    "- Sensitivity<br>\n",
    "The percent (or proportion) of all 1s that are correctly classified as 1s.<br>\n",
    "Synonym: Recall\n",
    "- Specificity<br>\n",
    "The percent (or proportion) of all 0s that are correctly classified as 0s.<br>\n",
    "- Precision<br>\n",
    "The percent (proportion) of predicted 1s that are actually 1s.<br>\n",
    "- ROC curve<br>\n",
    "A plot of sensitivity versus specificity.<br>\n",
    "- Lift<br>\n",
    "A measure of how effective the model is at identifying (comparatively rare) 1s at\n",
    "different probability cutoffs.<br>"
   ]
  }
 ],
 "metadata": {
  "language_info": {
   "name": "python"
  }
 },
 "nbformat": 4,
 "nbformat_minor": 2
}
