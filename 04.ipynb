{
 "cells": [
  {
   "cell_type": "markdown",
   "metadata": {},
   "source": [
    "# 4 regression and prediction"
   ]
  },
  {
   "cell_type": "markdown",
   "metadata": {},
   "source": [
    "## simple linear regression"
   ]
  },
  {
   "cell_type": "markdown",
   "metadata": {},
   "source": [
    "$ Y = b_{0} + b_{1}X $\n",
    "\n",
    "$b_{0}$ = intercept <br>\n",
    "$b_{1}$ = slope"
   ]
  },
  {
   "cell_type": "markdown",
   "metadata": {},
   "source": [
    "- Response<br>\n",
    "The variable we are trying to predict.<br>\n",
    "_Synonyms_: \n",
    "dependent variable, Y variable, target, outcome<br>\n",
    "- Independent variable<br>\n",
    "The variable used to predict the response.<br>\n",
    "_Synonyms_: \n",
    "X variable, feature, attribute, predictor<br>\n",
    "- Record<br>\n",
    "The vector of predictor and outcome values for a specific individual or case.<br>\n",
    "_Synonyms_: \n",
    "row, case, instance, example<br>\n",
    "- Intercept<br>\n",
    "The intercept of the regression line—that is, the predicted value when X = 0.<br>\n",
    "_Synonyms_: \n",
    "b0, β0<br>\n",
    "- Regression coefficient<br>\n",
    "The slope of the regression line.<br>\n",
    "_Synonyms_: \n",
    "slope, b1, β1, parameter estimates, weights<br>\n",
    "- Fitted values<br>\n",
    "The estimates Yi obtained from the regression line.<br>\n",
    "_Synonyms_: \n",
    "predicted values<br>\n",
    "- Residuals<br>\n",
    "The difference between the observed values and the fitted values.<br>\n",
    "_Synonyms_: \n",
    "error<br>\n",
    "- Least squares<br>\n",
    "The method of fitting a regression by minimizing the sum of squared residuals.<br>\n",
    "_Synonyms_:\n",
    "ordinary least squares, OLS<br>"
   ]
  },
  {
   "cell_type": "markdown",
   "metadata": {},
   "source": [
    "## multiple linear regression"
   ]
  },
  {
   "cell_type": "markdown",
   "metadata": {},
   "source": [
    "$ Y = b_{0} + b_{1}X_{1} + b_{2}X_{2} + ... + b_{p}X_{p} $"
   ]
  },
  {
   "cell_type": "markdown",
   "metadata": {},
   "source": [
    "- Root mean squared error<br>\n",
    "The square root of the average squared error of the regression (this is the most\n",
    "widely used metric to compare regression models).<br>\n",
    "Synonym:\n",
    "RMSE<br>\n",
    "- Residual standard error<br>\n",
    "The same as the root mean squared error, but adjusted for degrees of freedom.<br>\n",
    "Synonym:\n",
    "RSE<br>\n",
    "- R-squared<br>\n",
    "The proportion of variance explained by the model, from 0 to 1.<br>\n",
    "Synonyms:\n",
    "coefficient of determination, R2<br>\n",
    "- t-statistic<br>\n",
    "The coefficient for a predictor, divided by the standard error of the coefficient,\n",
    "giving a metric to compare the importance of variables in the model. See “t-Tests”\n",
    "on page 110.<br>\n",
    "- Weighted regression<br>\n",
    "Regression with the records having different weights.<br>"
   ]
  },
  {
   "cell_type": "code",
   "execution_count": null,
   "metadata": {},
   "outputs": [
    {
     "name": "stdout",
     "output_type": "stream",
     "text": [
      "Intercept: -521871.368\n",
      "Coefficients:\n",
      " SqFtTotLiving: 228.8306036024076\n",
      " SqFtLot: -0.06046682065306541\n",
      " Bathrooms: -19442.840398321052\n",
      " Bedrooms: -47769.95518521427\n",
      " BldgGrade: 106106.96307898087\n"
     ]
    }
   ],
   "source": [
    "house= pd.read_csv('practical-statistics-for-data-scientists\\data\\house_sales.csv', sep= '\\t')\n",
    "\n",
    "from sklearn.linear_model import LinearRegression\n",
    "predictors = ['SqFtTotLiving', 'SqFtLot', 'Bathrooms', 'Bedrooms', 'BldgGrade']\n",
    "outcome = 'AdjSalePrice'\n",
    "house_lm = LinearRegression()\n",
    "house_lm.fit(house[predictors], house[outcome])\n",
    "\n",
    "print(f'Intercept: {house_lm.intercept_:.3f}')\n",
    "print('Coefficients:')\n",
    "for name, coef in zip(predictors, house_lm.coef_):\n",
    " print(f' {name}: {coef}')"
   ]
  },
  {
   "cell_type": "code",
   "execution_count": null,
   "metadata": {},
   "outputs": [
    {
     "data": {
      "text/html": [
       "<table class=\"simpletable\">\n",
       "<caption>OLS Regression Results</caption>\n",
       "<tr>\n",
       "  <th>Dep. Variable:</th>      <td>AdjSalePrice</td>   <th>  R-squared:         </th>  <td>   0.541</td>  \n",
       "</tr>\n",
       "<tr>\n",
       "  <th>Model:</th>                   <td>OLS</td>       <th>  Adj. R-squared:    </th>  <td>   0.540</td>  \n",
       "</tr>\n",
       "<tr>\n",
       "  <th>Method:</th>             <td>Least Squares</td>  <th>  F-statistic:       </th>  <td>   5338.</td>  \n",
       "</tr>\n",
       "<tr>\n",
       "  <th>Date:</th>             <td>Sat, 12 Nov 2022</td> <th>  Prob (F-statistic):</th>   <td>  0.00</td>   \n",
       "</tr>\n",
       "<tr>\n",
       "  <th>Time:</th>                 <td>12:45:47</td>     <th>  Log-Likelihood:    </th> <td>-3.1517e+05</td>\n",
       "</tr>\n",
       "<tr>\n",
       "  <th>No. Observations:</th>      <td> 22687</td>      <th>  AIC:               </th>  <td>6.304e+05</td> \n",
       "</tr>\n",
       "<tr>\n",
       "  <th>Df Residuals:</th>          <td> 22681</td>      <th>  BIC:               </th>  <td>6.304e+05</td> \n",
       "</tr>\n",
       "<tr>\n",
       "  <th>Df Model:</th>              <td>     5</td>      <th>                     </th>      <td> </td>     \n",
       "</tr>\n",
       "<tr>\n",
       "  <th>Covariance Type:</th>      <td>nonrobust</td>    <th>                     </th>      <td> </td>     \n",
       "</tr>\n",
       "</table>\n",
       "<table class=\"simpletable\">\n",
       "<tr>\n",
       "        <td></td>           <th>coef</th>     <th>std err</th>      <th>t</th>      <th>P>|t|</th>  <th>[0.025</th>    <th>0.975]</th>  \n",
       "</tr>\n",
       "<tr>\n",
       "  <th>SqFtTotLiving</th> <td>  228.8306</td> <td>    3.899</td> <td>   58.694</td> <td> 0.000</td> <td>  221.189</td> <td>  236.472</td>\n",
       "</tr>\n",
       "<tr>\n",
       "  <th>SqFtLot</th>       <td>   -0.0605</td> <td>    0.061</td> <td>   -0.988</td> <td> 0.323</td> <td>   -0.180</td> <td>    0.059</td>\n",
       "</tr>\n",
       "<tr>\n",
       "  <th>Bathrooms</th>     <td>-1.944e+04</td> <td> 3625.388</td> <td>   -5.363</td> <td> 0.000</td> <td>-2.65e+04</td> <td>-1.23e+04</td>\n",
       "</tr>\n",
       "<tr>\n",
       "  <th>Bedrooms</th>      <td>-4.777e+04</td> <td> 2489.732</td> <td>  -19.187</td> <td> 0.000</td> <td>-5.27e+04</td> <td>-4.29e+04</td>\n",
       "</tr>\n",
       "<tr>\n",
       "  <th>BldgGrade</th>     <td> 1.061e+05</td> <td> 2396.445</td> <td>   44.277</td> <td> 0.000</td> <td> 1.01e+05</td> <td> 1.11e+05</td>\n",
       "</tr>\n",
       "<tr>\n",
       "  <th>const</th>         <td>-5.219e+05</td> <td> 1.57e+04</td> <td>  -33.342</td> <td> 0.000</td> <td>-5.53e+05</td> <td>-4.91e+05</td>\n",
       "</tr>\n",
       "</table>\n",
       "<table class=\"simpletable\">\n",
       "<tr>\n",
       "  <th>Omnibus:</th>       <td>29676.557</td> <th>  Durbin-Watson:     </th>   <td>   1.247</td>  \n",
       "</tr>\n",
       "<tr>\n",
       "  <th>Prob(Omnibus):</th>  <td> 0.000</td>   <th>  Jarque-Bera (JB):  </th> <td>19390738.346</td>\n",
       "</tr>\n",
       "<tr>\n",
       "  <th>Skew:</th>           <td> 6.889</td>   <th>  Prob(JB):          </th>   <td>    0.00</td>  \n",
       "</tr>\n",
       "<tr>\n",
       "  <th>Kurtosis:</th>       <td>145.559</td>  <th>  Cond. No.          </th>   <td>2.86e+05</td>  \n",
       "</tr>\n",
       "</table><br/><br/>Notes:<br/>[1] Standard Errors assume that the covariance matrix of the errors is correctly specified.<br/>[2] The condition number is large, 2.86e+05. This might indicate that there are<br/>strong multicollinearity or other numerical problems."
      ],
      "text/plain": [
       "<class 'statsmodels.iolib.summary.Summary'>\n",
       "\"\"\"\n",
       "                            OLS Regression Results                            \n",
       "==============================================================================\n",
       "Dep. Variable:           AdjSalePrice   R-squared:                       0.541\n",
       "Model:                            OLS   Adj. R-squared:                  0.540\n",
       "Method:                 Least Squares   F-statistic:                     5338.\n",
       "Date:                Sat, 12 Nov 2022   Prob (F-statistic):               0.00\n",
       "Time:                        12:45:47   Log-Likelihood:            -3.1517e+05\n",
       "No. Observations:               22687   AIC:                         6.304e+05\n",
       "Df Residuals:                   22681   BIC:                         6.304e+05\n",
       "Df Model:                           5                                         \n",
       "Covariance Type:            nonrobust                                         \n",
       "=================================================================================\n",
       "                    coef    std err          t      P>|t|      [0.025      0.975]\n",
       "---------------------------------------------------------------------------------\n",
       "SqFtTotLiving   228.8306      3.899     58.694      0.000     221.189     236.472\n",
       "SqFtLot          -0.0605      0.061     -0.988      0.323      -0.180       0.059\n",
       "Bathrooms     -1.944e+04   3625.388     -5.363      0.000   -2.65e+04   -1.23e+04\n",
       "Bedrooms      -4.777e+04   2489.732    -19.187      0.000   -5.27e+04   -4.29e+04\n",
       "BldgGrade      1.061e+05   2396.445     44.277      0.000    1.01e+05    1.11e+05\n",
       "const         -5.219e+05   1.57e+04    -33.342      0.000   -5.53e+05   -4.91e+05\n",
       "==============================================================================\n",
       "Omnibus:                    29676.557   Durbin-Watson:                   1.247\n",
       "Prob(Omnibus):                  0.000   Jarque-Bera (JB):         19390738.346\n",
       "Skew:                           6.889   Prob(JB):                         0.00\n",
       "Kurtosis:                     145.559   Cond. No.                     2.86e+05\n",
       "==============================================================================\n",
       "\n",
       "Notes:\n",
       "[1] Standard Errors assume that the covariance matrix of the errors is correctly specified.\n",
       "[2] The condition number is large, 2.86e+05. This might indicate that there are\n",
       "strong multicollinearity or other numerical problems.\n",
       "\"\"\""
      ]
     },
     "metadata": {},
     "output_type": "display_data"
    }
   ],
   "source": [
    "import statsmodels.api as sm\n",
    "model = sm.OLS(house[outcome], house[predictors].assign(const=1))\n",
    "results = model.fit()\n",
    "results.summary()"
   ]
  },
  {
   "cell_type": "code",
   "execution_count": null,
   "metadata": {},
   "outputs": [
    {
     "name": "stdout",
     "output_type": "stream",
     "text": [
      "r^2 score: 0.5405875253381902\n",
      "rmse: 261220.19743696266\n"
     ]
    }
   ],
   "source": [
    "# rmse\n",
    "from sklearn.metrics import r2_score, mean_squared_error\n",
    "\n",
    "y_pred= house_lm.predict(house[predictors])\n",
    "print(f'r^2 score: {r2_score(house[outcome], y_pred)}')\n",
    "print(f'rmse: {np.sqrt(mean_squared_error(house[outcome], y_pred))}')"
   ]
  },
  {
   "cell_type": "markdown",
   "metadata": {},
   "source": [
    "## categorical vars"
   ]
  },
  {
   "cell_type": "markdown",
   "metadata": {},
   "source": [
    "- Dummy variables<br>\n",
    "Binary 0–1 variables derived by recoding factor data for use in regression and\n",
    "other models.<br>\n",
    "- Reference coding<br>\n",
    "The most common type of coding used by statisticians, in which one level of a\n",
    "factor is used as a reference and other factors are compared to that level.<br>\n",
    "Synonym: treatment coding\n",
    "- One hot encoder<br>\n",
    "A common type of coding used in the machine learning community in which all\n",
    "factor levels are retained. While useful for certain machine learning algorithms,\n",
    "this approach is not appropriate for multiple linear regression.<br>\n",
    "- Deviation coding<br>\n",
    "A type of coding that compares each level against the overall mean as opposed to\n",
    "the reference level.<br>\n",
    "Synonym: sum contrast"
   ]
  },
  {
   "cell_type": "code",
   "execution_count": null,
   "metadata": {},
   "outputs": [
    {
     "data": {
      "text/html": [
       "<div>\n",
       "<style scoped>\n",
       "    .dataframe tbody tr th:only-of-type {\n",
       "        vertical-align: middle;\n",
       "    }\n",
       "\n",
       "    .dataframe tbody tr th {\n",
       "        vertical-align: top;\n",
       "    }\n",
       "\n",
       "    .dataframe thead th {\n",
       "        text-align: right;\n",
       "    }\n",
       "</style>\n",
       "<table border=\"1\" class=\"dataframe\">\n",
       "  <thead>\n",
       "    <tr style=\"text-align: right;\">\n",
       "      <th></th>\n",
       "      <th>Single Family</th>\n",
       "      <th>Townhouse</th>\n",
       "    </tr>\n",
       "  </thead>\n",
       "  <tbody>\n",
       "    <tr>\n",
       "      <th>1</th>\n",
       "      <td>0</td>\n",
       "      <td>0</td>\n",
       "    </tr>\n",
       "    <tr>\n",
       "      <th>2</th>\n",
       "      <td>1</td>\n",
       "      <td>0</td>\n",
       "    </tr>\n",
       "    <tr>\n",
       "      <th>3</th>\n",
       "      <td>1</td>\n",
       "      <td>0</td>\n",
       "    </tr>\n",
       "    <tr>\n",
       "      <th>4</th>\n",
       "      <td>1</td>\n",
       "      <td>0</td>\n",
       "    </tr>\n",
       "    <tr>\n",
       "      <th>5</th>\n",
       "      <td>1</td>\n",
       "      <td>0</td>\n",
       "    </tr>\n",
       "  </tbody>\n",
       "</table>\n",
       "</div>"
      ],
      "text/plain": [
       "   Single Family  Townhouse\n",
       "1              0          0\n",
       "2              1          0\n",
       "3              1          0\n",
       "4              1          0\n",
       "5              1          0"
      ]
     },
     "metadata": {},
     "output_type": "display_data"
    }
   ],
   "source": [
    "# one hot encoding\n",
    "\n",
    "pd.get_dummies(house['PropertyType'], drop_first= True).head()\n",
    "# use drop first to avoid multicolinearoty"
   ]
  },
  {
   "cell_type": "markdown",
   "metadata": {},
   "source": [
    "### categorical var with many levels"
   ]
  },
  {
   "cell_type": "code",
   "execution_count": null,
   "metadata": {},
   "outputs": [
    {
     "data": {
      "text/plain": [
       "Index(['DocumentDate', 'SalePrice', 'PropertyID', 'PropertyType', 'ym',\n",
       "       'zhvi_px', 'zhvi_idx', 'AdjSalePrice', 'NbrLivingUnits', 'SqFtLot',\n",
       "       'SqFtTotLiving', 'SqFtFinBasement', 'Bathrooms', 'Bedrooms',\n",
       "       'BldgGrade', 'YrBuilt', 'YrRenovated', 'TrafficNoise', 'LandVal',\n",
       "       'ImpsVal', 'ZipCode', 'NewConstruction'],\n",
       "      dtype='object')"
      ]
     },
     "metadata": {},
     "output_type": "display_data"
    }
   ],
   "source": [
    "house.columns"
   ]
  },
  {
   "cell_type": "code",
   "execution_count": null,
   "metadata": {},
   "outputs": [
    {
     "name": "stdout",
     "output_type": "stream",
     "text": [
      "0    16\n",
      "1    16\n",
      "2    16\n",
      "3    16\n",
      "4    16\n",
      "Name: ZipGroup, dtype: int64\n"
     ]
    }
   ],
   "source": [
    "from sklearn.linear_model import LinearRegression\n",
    "import pandas as pd\n",
    "import numpy as np\n",
    "\n",
    "house = pd.read_csv('practical-statistics-for-data-scientists\\data\\house_sales.csv', sep='\\t')\n",
    "\n",
    "predictors = ['SqFtTotLiving', 'SqFtLot', 'Bathrooms', \n",
    "              'Bedrooms', 'BldgGrade']\n",
    "outcome = 'AdjSalePrice'\n",
    "\n",
    "house_lm = LinearRegression()\n",
    "house_lm.fit(house[predictors], house[outcome])\n",
    "\n",
    "zip_groups = pd.DataFrame([\n",
    "    *pd.DataFrame({\n",
    "        'ZipCode': house['ZipCode'],\n",
    "        'residual' : house[outcome] - house_lm.predict(house[predictors]),\n",
    "    }) # residual of each rows\n",
    "    .groupby(['ZipCode']) # group by zipcode\n",
    "    .apply(lambda x: {\n",
    "        'ZipCode': x.iloc[0,0],\n",
    "        'count': len(x),\n",
    "        'median_residual': x.residual.median()\n",
    "    })\n",
    "]).sort_values('median_residual')\n",
    "zip_groups['cum_count'] = np.cumsum(zip_groups['count'])\n",
    "zip_groups['ZipGroup'] = pd.qcut(zip_groups['cum_count'], 5, labels=False, retbins=False)\n",
    "zip_groups.head()\n",
    "print(zip_groups.ZipGroup.value_counts().sort_index())"
   ]
  },
  {
   "cell_type": "code",
   "execution_count": null,
   "metadata": {},
   "outputs": [
    {
     "data": {
      "text/html": [
       "<div>\n",
       "<style scoped>\n",
       "    .dataframe tbody tr th:only-of-type {\n",
       "        vertical-align: middle;\n",
       "    }\n",
       "\n",
       "    .dataframe tbody tr th {\n",
       "        vertical-align: top;\n",
       "    }\n",
       "\n",
       "    .dataframe thead th {\n",
       "        text-align: right;\n",
       "    }\n",
       "</style>\n",
       "<table border=\"1\" class=\"dataframe\">\n",
       "  <thead>\n",
       "    <tr style=\"text-align: right;\">\n",
       "      <th></th>\n",
       "      <th>ZipCode</th>\n",
       "      <th>residual</th>\n",
       "    </tr>\n",
       "  </thead>\n",
       "  <tbody>\n",
       "    <tr>\n",
       "      <th>1</th>\n",
       "      <td>98002</td>\n",
       "      <td>-123750.814194</td>\n",
       "    </tr>\n",
       "    <tr>\n",
       "      <th>2</th>\n",
       "      <td>98166</td>\n",
       "      <td>-59145.413089</td>\n",
       "    </tr>\n",
       "    <tr>\n",
       "      <th>3</th>\n",
       "      <td>98166</td>\n",
       "      <td>190108.725716</td>\n",
       "    </tr>\n",
       "    <tr>\n",
       "      <th>4</th>\n",
       "      <td>98168</td>\n",
       "      <td>-198788.774412</td>\n",
       "    </tr>\n",
       "    <tr>\n",
       "      <th>5</th>\n",
       "      <td>98168</td>\n",
       "      <td>-91774.996129</td>\n",
       "    </tr>\n",
       "  </tbody>\n",
       "</table>\n",
       "</div>"
      ],
      "text/plain": [
       "   ZipCode       residual\n",
       "1    98002 -123750.814194\n",
       "2    98166  -59145.413089\n",
       "3    98166  190108.725716\n",
       "4    98168 -198788.774412\n",
       "5    98168  -91774.996129"
      ]
     },
     "metadata": {},
     "output_type": "display_data"
    }
   ],
   "source": [
    "pd.DataFrame({\n",
    "        'ZipCode': house['ZipCode'],\n",
    "        'residual' : house[outcome] - house_lm.predict(house[predictors]),\n",
    "    }).head()"
   ]
  },
  {
   "cell_type": "code",
   "execution_count": null,
   "metadata": {},
   "outputs": [
    {
     "data": {
      "text/html": [
       "<div>\n",
       "<style scoped>\n",
       "    .dataframe tbody tr th:only-of-type {\n",
       "        vertical-align: middle;\n",
       "    }\n",
       "\n",
       "    .dataframe tbody tr th {\n",
       "        vertical-align: top;\n",
       "    }\n",
       "\n",
       "    .dataframe thead th {\n",
       "        text-align: right;\n",
       "    }\n",
       "</style>\n",
       "<table border=\"1\" class=\"dataframe\">\n",
       "  <thead>\n",
       "    <tr style=\"text-align: right;\">\n",
       "      <th></th>\n",
       "      <th>ZipCode</th>\n",
       "      <th>count</th>\n",
       "      <th>median_residual</th>\n",
       "    </tr>\n",
       "  </thead>\n",
       "  <tbody>\n",
       "    <tr>\n",
       "      <th>36</th>\n",
       "      <td>98057</td>\n",
       "      <td>4</td>\n",
       "      <td>-537321.644462</td>\n",
       "    </tr>\n",
       "    <tr>\n",
       "      <th>27</th>\n",
       "      <td>98043</td>\n",
       "      <td>1</td>\n",
       "      <td>-307661.343614</td>\n",
       "    </tr>\n",
       "    <tr>\n",
       "      <th>46</th>\n",
       "      <td>98092</td>\n",
       "      <td>289</td>\n",
       "      <td>-193569.183599</td>\n",
       "    </tr>\n",
       "    <tr>\n",
       "      <th>23</th>\n",
       "      <td>98038</td>\n",
       "      <td>788</td>\n",
       "      <td>-150066.477035</td>\n",
       "    </tr>\n",
       "    <tr>\n",
       "      <th>31</th>\n",
       "      <td>98051</td>\n",
       "      <td>32</td>\n",
       "      <td>-142352.869593</td>\n",
       "    </tr>\n",
       "  </tbody>\n",
       "</table>\n",
       "</div>"
      ],
      "text/plain": [
       "    ZipCode  count  median_residual\n",
       "36    98057      4   -537321.644462\n",
       "27    98043      1   -307661.343614\n",
       "46    98092    289   -193569.183599\n",
       "23    98038    788   -150066.477035\n",
       "31    98051     32   -142352.869593"
      ]
     },
     "metadata": {},
     "output_type": "display_data"
    }
   ],
   "source": [
    "zip_groups = pd.DataFrame([\n",
    "    *pd.DataFrame({\n",
    "        'ZipCode': house['ZipCode'],\n",
    "        'residual' : house[outcome] - house_lm.predict(house[predictors]),\n",
    "    }) # residual of each rows\n",
    "    .groupby(['ZipCode']) # group by zipcode\n",
    "    .apply(lambda x: {\n",
    "        'ZipCode': x.iloc[0,0], # get first zipcode\n",
    "        'count': len(x), # count number of rows per zipcode\n",
    "        'median_residual': x.residual.median() # get median residual\n",
    "    })\n",
    "]).sort_values('median_residual') # sort ascending by median res\n",
    "zip_groups.head()"
   ]
  },
  {
   "cell_type": "code",
   "execution_count": null,
   "metadata": {},
   "outputs": [
    {
     "name": "stdout",
     "output_type": "stream",
     "text": [
      "22687\n",
      "22687\n"
     ]
    },
    {
     "data": {
      "text/html": [
       "<div>\n",
       "<style scoped>\n",
       "    .dataframe tbody tr th:only-of-type {\n",
       "        vertical-align: middle;\n",
       "    }\n",
       "\n",
       "    .dataframe tbody tr th {\n",
       "        vertical-align: top;\n",
       "    }\n",
       "\n",
       "    .dataframe thead th {\n",
       "        text-align: right;\n",
       "    }\n",
       "</style>\n",
       "<table border=\"1\" class=\"dataframe\">\n",
       "  <thead>\n",
       "    <tr style=\"text-align: right;\">\n",
       "      <th></th>\n",
       "      <th>ZipCode</th>\n",
       "      <th>count</th>\n",
       "      <th>median_residual</th>\n",
       "      <th>cum_count</th>\n",
       "    </tr>\n",
       "  </thead>\n",
       "  <tbody>\n",
       "    <tr>\n",
       "      <th>36</th>\n",
       "      <td>98057</td>\n",
       "      <td>4</td>\n",
       "      <td>-537321.644462</td>\n",
       "      <td>4</td>\n",
       "    </tr>\n",
       "    <tr>\n",
       "      <th>27</th>\n",
       "      <td>98043</td>\n",
       "      <td>1</td>\n",
       "      <td>-307661.343614</td>\n",
       "      <td>5</td>\n",
       "    </tr>\n",
       "    <tr>\n",
       "      <th>46</th>\n",
       "      <td>98092</td>\n",
       "      <td>289</td>\n",
       "      <td>-193569.183599</td>\n",
       "      <td>294</td>\n",
       "    </tr>\n",
       "    <tr>\n",
       "      <th>23</th>\n",
       "      <td>98038</td>\n",
       "      <td>788</td>\n",
       "      <td>-150066.477035</td>\n",
       "      <td>1082</td>\n",
       "    </tr>\n",
       "    <tr>\n",
       "      <th>31</th>\n",
       "      <td>98051</td>\n",
       "      <td>32</td>\n",
       "      <td>-142352.869593</td>\n",
       "      <td>1114</td>\n",
       "    </tr>\n",
       "  </tbody>\n",
       "</table>\n",
       "</div>"
      ],
      "text/plain": [
       "    ZipCode  count  median_residual  cum_count\n",
       "36    98057      4   -537321.644462          4\n",
       "27    98043      1   -307661.343614          5\n",
       "46    98092    289   -193569.183599        294\n",
       "23    98038    788   -150066.477035       1082\n",
       "31    98051     32   -142352.869593       1114"
      ]
     },
     "metadata": {},
     "output_type": "display_data"
    }
   ],
   "source": [
    "zip_groups['cum_count'] = np.cumsum(zip_groups['count']) # cumsum count\n",
    "print(zip_groups['cum_count'].max())\n",
    "print(len(house))\n",
    "zip_groups.head()"
   ]
  },
  {
   "cell_type": "code",
   "execution_count": null,
   "metadata": {},
   "outputs": [
    {
     "data": {
      "text/html": [
       "<div>\n",
       "<style scoped>\n",
       "    .dataframe tbody tr th:only-of-type {\n",
       "        vertical-align: middle;\n",
       "    }\n",
       "\n",
       "    .dataframe tbody tr th {\n",
       "        vertical-align: top;\n",
       "    }\n",
       "\n",
       "    .dataframe thead th {\n",
       "        text-align: right;\n",
       "    }\n",
       "</style>\n",
       "<table border=\"1\" class=\"dataframe\">\n",
       "  <thead>\n",
       "    <tr style=\"text-align: right;\">\n",
       "      <th></th>\n",
       "      <th>ZipCode</th>\n",
       "      <th>count</th>\n",
       "      <th>median_residual</th>\n",
       "      <th>cum_count</th>\n",
       "      <th>ZipGroup</th>\n",
       "    </tr>\n",
       "  </thead>\n",
       "  <tbody>\n",
       "    <tr>\n",
       "      <th>36</th>\n",
       "      <td>98057</td>\n",
       "      <td>4</td>\n",
       "      <td>-537321.644462</td>\n",
       "      <td>4</td>\n",
       "      <td>0</td>\n",
       "    </tr>\n",
       "    <tr>\n",
       "      <th>27</th>\n",
       "      <td>98043</td>\n",
       "      <td>1</td>\n",
       "      <td>-307661.343614</td>\n",
       "      <td>5</td>\n",
       "      <td>0</td>\n",
       "    </tr>\n",
       "    <tr>\n",
       "      <th>46</th>\n",
       "      <td>98092</td>\n",
       "      <td>289</td>\n",
       "      <td>-193569.183599</td>\n",
       "      <td>294</td>\n",
       "      <td>0</td>\n",
       "    </tr>\n",
       "    <tr>\n",
       "      <th>23</th>\n",
       "      <td>98038</td>\n",
       "      <td>788</td>\n",
       "      <td>-150066.477035</td>\n",
       "      <td>1082</td>\n",
       "      <td>0</td>\n",
       "    </tr>\n",
       "    <tr>\n",
       "      <th>31</th>\n",
       "      <td>98051</td>\n",
       "      <td>32</td>\n",
       "      <td>-142352.869593</td>\n",
       "      <td>1114</td>\n",
       "      <td>0</td>\n",
       "    </tr>\n",
       "  </tbody>\n",
       "</table>\n",
       "</div>"
      ],
      "text/plain": [
       "    ZipCode  count  median_residual  cum_count  ZipGroup\n",
       "36    98057      4   -537321.644462          4         0\n",
       "27    98043      1   -307661.343614          5         0\n",
       "46    98092    289   -193569.183599        294         0\n",
       "23    98038    788   -150066.477035       1082         0\n",
       "31    98051     32   -142352.869593       1114         0"
      ]
     },
     "metadata": {},
     "output_type": "display_data"
    }
   ],
   "source": [
    "# cut data into 5 based on cumulative count\n",
    "zip_groups['ZipGroup'] = pd.qcut(zip_groups['cum_count'], 5, labels=False, retbins=False)\n",
    "zip_groups.head()"
   ]
  },
  {
   "cell_type": "markdown",
   "metadata": {},
   "source": [
    "## stepwise regression"
   ]
  },
  {
   "cell_type": "code",
   "execution_count": null,
   "metadata": {},
   "outputs": [
    {
     "name": "stdout",
     "output_type": "stream",
     "text": [
      "Variables: SqFtTotLiving, SqFtLot, Bathrooms, Bedrooms, BldgGrade, NbrLivingUnits, SqFtFinBasement, YrBuilt, YrRenovated, NewConstruction, PropertyType_Single Family, PropertyType_Townhouse\n",
      "Start: score=647988.32, constant\n",
      "Step: score=633013.35, add SqFtTotLiving\n",
      "Step: score=630793.74, add BldgGrade\n",
      "Step: score=628230.29, add YrBuilt\n",
      "Step: score=627784.16, add Bedrooms\n",
      "Step: score=627602.21, add Bathrooms\n",
      "Step: score=627525.65, add PropertyType_Townhouse\n",
      "Step: score=627525.08, add SqFtFinBasement\n",
      "Step: score=627524.98, add PropertyType_Single Family\n",
      "Step: score=627524.98, unchanged None\n",
      "\n",
      "Intercept: 6178645.017\n",
      "Coefficients:\n",
      " SqFtTotLiving: 199.27755304201446\n",
      " BldgGrade: 137159.56022619864\n",
      " YrBuilt: -3565.424939249452\n",
      " Bedrooms: -51947.38367361421\n",
      " Bathrooms: 42396.16452772033\n",
      " PropertyType_Townhouse: 84479.16203299884\n",
      " SqFtFinBasement: 7.046974967553979\n",
      " PropertyType_Single Family: 22912.05518701766\n"
     ]
    }
   ],
   "source": [
    "from dmba import AIC_score, stepwise_selection\n",
    "\n",
    "predictors = ['SqFtTotLiving', 'SqFtLot', 'Bathrooms', 'Bedrooms',\n",
    "              'BldgGrade', 'PropertyType', 'NbrLivingUnits',\n",
    "              'SqFtFinBasement', 'YrBuilt', 'YrRenovated', \n",
    "              'NewConstruction']\n",
    "\n",
    "X = pd.get_dummies(house[predictors], drop_first=True)\n",
    "X['NewConstruction'] = [1 if nc else 0 for nc in X['NewConstruction']] # if trure convert to 1\n",
    "\n",
    "y = house[outcome]\n",
    "\n",
    "def train_model(variables):\n",
    "    if len(variables) == 0:\n",
    "        return None\n",
    "    model = LinearRegression()\n",
    "    model.fit(X[variables], y)\n",
    "    return model\n",
    "\n",
    "def score_model(model, variables):\n",
    "    if len(variables) == 0:\n",
    "        return AIC_score(y, [y.mean()] * len(y), model, df=1)\n",
    "    return AIC_score(y, model.predict(X[variables]), model)\n",
    "\n",
    "best_model, best_variables = stepwise_selection(X.columns, train_model, score_model, \n",
    "                                                verbose=True)\n",
    "\n",
    "print()\n",
    "print(f'Intercept: {best_model.intercept_:.3f}')\n",
    "print('Coefficients:')\n",
    "for name, coef in zip(best_variables, best_model.coef_):\n",
    "    print(f' {name}: {coef}')"
   ]
  },
  {
   "cell_type": "markdown",
   "metadata": {},
   "source": [
    "## interpreting regression equation"
   ]
  },
  {
   "cell_type": "markdown",
   "metadata": {},
   "source": [
    "- Correlated variables<br>\n",
    "When the predictor variables are highly correlated, it is difficult to interpret the\n",
    "individual coefficients.<br>\n",
    "\n",
    "- Multicollinearity<br>\n",
    "When the predictor variables have perfect, or near-perfect, correlation, the\n",
    "regression can be unstable or impossible to compute.<br>\n",
    "Synonym: collinearity<br>\n",
    "Causes:\n",
    "    1. A variable is included multiple times by error.<br>\n",
    "    2. P dummies, instead of P – 1 dummies, are created from a factor variable<br>\n",
    "    3. Two variables are nearly perfectly correlated with one another<br><br>\n",
    "\n",
    "    > Multicollinearity is not such a problem for nonlinear regression methods like trees, clustering, and nearest-neighbors\n",
    "\n",
    "- Confounding variables<br>\n",
    "An important predictor that, when omitted, leads to spurious relationships in a\n",
    "regression equation.<br>\n",
    "\n",
    "- Main effects<br>\n",
    "The relationship between a predictor and the outcome variable, independent of\n",
    "other variables.<br>\n",
    "\n",
    "- Interactions<br>\n",
    "An interdependent relationship between two or more predictors and the\n",
    "response.<br>\n",
    "\n",
    "    > Model Selection with Interaction Terms<br>\n",
    "In problems involving many variables, several different approaches are commonly taken:<br>\n",
    "1. In some problems, prior knowledge and intuition can guide\n",
    "the choice of which interaction terms to include in the model.<br>\n",
    "2. Stepwise selection (see “Model Selection and Stepwise Regres‐\n",
    "sion” on page 156) can be used to sift through the various\n",
    "models.<br>\n",
    "3. Penalized regression can automatically fit to a large set of pos‐\n",
    "sible interaction terms.<br>\n",
    "4. Use tree models, as\n",
    "well as their descendants, random forest and gradient boosted\n",
    "trees. This class of models automatically searches for optimal\n",
    "interaction terms<br>"
   ]
  },
  {
   "cell_type": "markdown",
   "metadata": {},
   "source": [
    "## regression diagnostics"
   ]
  },
  {
   "cell_type": "markdown",
   "metadata": {},
   "source": [
    "- Standardized residuals<br>\n",
    "Residuals divided by the standard error of the residuals.<br>\n",
    "- Outliers<br>\n",
    "Records (or outcome values) that are distant from the rest of the data (or the pre‐\n",
    "dicted outcome).<br>\n",
    "- Influential value<br>\n",
    "A value or record whose presence or absence makes a big difference in the\n",
    "regression equation.<br>\n",
    "- Leverage<br>\n",
    "The degree of influence that a single record has on a regression equation.\n",
    "Synonym: hat-value<br>\n",
    "- Non-normal residuals<br>\n",
    "Non-normally distributed residuals can invalidate some technical requirements\n",
    "of regression but are usually not a concern in data science.<br>\n",
    "- Heteroskedasticity<br>\n",
    "When some ranges of the outcome experience residuals with higher variance\n",
    "(may indicate a predictor missing from the equation).<br>\n",
    "- Partial residual plots<br>\n",
    "A diagnostic plot to illuminate the relationship between the outcome variable\n",
    "and a single predictor.<br>\n",
    "Synonym: added variables plot<br>"
   ]
  },
  {
   "cell_type": "code",
   "execution_count": null,
   "metadata": {},
   "outputs": [
    {
     "data": {
      "text/plain": [
       "(24333, -4.326731804078567)"
      ]
     },
     "metadata": {},
     "output_type": "display_data"
    }
   ],
   "source": [
    "# outliers\n",
    "\n",
    "import statsmodels.api as sm\n",
    "from statsmodels.stats.outliers_influence import OLSInfluence\n",
    "\n",
    "house_98105 = house.loc[house['ZipCode'] == 98105, ]\n",
    "predictors = ['SqFtTotLiving', 'SqFtLot', 'Bathrooms', 'Bedrooms', 'BldgGrade']\n",
    "outcome = 'AdjSalePrice'\n",
    "\n",
    "house_outlier = sm.OLS(house_98105[outcome], house_98105[predictors].assign(const=1))\n",
    "\n",
    "result_98105 = house_outlier.fit()\n",
    "\n",
    "influence = OLSInfluence(result_98105)\n",
    "sresiduals = influence.resid_studentized_internal\n",
    "sresiduals.idxmin(), sresiduals.min()"
   ]
  },
  {
   "cell_type": "code",
   "execution_count": null,
   "metadata": {},
   "outputs": [
    {
     "name": "stdout",
     "output_type": "stream",
     "text": [
      "AdjSalePrice 119748.0\n",
      "SqFtTotLiving    2900\n",
      "SqFtLot          7276\n",
      "Bathrooms         3.0\n",
      "Bedrooms            6\n",
      "BldgGrade           7\n",
      "Name: 24333, dtype: object\n"
     ]
    }
   ],
   "source": [
    "outlier = house_98105.loc[sresiduals.idxmin(), :]\n",
    "print('AdjSalePrice', outlier[outcome])\n",
    "print(outlier[predictors])"
   ]
  },
  {
   "cell_type": "code",
   "execution_count": null,
   "metadata": {},
   "outputs": [],
   "source": [
    "# influential onservations\n",
    "\n",
    "# For purposes of fitting a regression that reliably predicts future data, identifying\n",
    "# influential observations is useful only in smaller data sets. For regressions involving\n",
    "# many records, it is unlikely that any one observation will carry sufficient weight to\n",
    "# cause extreme influence on the fitted equation (although the regression may still have\n",
    "# big outliers). For purposes of anomaly detection, though, identifying influential\n",
    "# observations can be very useful."
   ]
  },
  {
   "cell_type": "code",
   "execution_count": null,
   "metadata": {},
   "outputs": [
    {
     "name": "stderr",
     "output_type": "stream",
     "text": [
      "c:\\Users\\Anjelito\\miniconda3\\envs\\data_science\\lib\\site-packages\\seaborn\\_decorators.py:36: FutureWarning: Pass the following variables as keyword args: x, y. From version 0.12, the only valid positional argument will be `data`, and passing other arguments without an explicit keyword will result in an error or misinterpretation.\n",
      "  warnings.warn(\n"
     ]
    },
    {
     "data": {
      "text/plain": [
       "Text(0, 0.5, 'abs(residual)')"
      ]
     },
     "metadata": {},
     "output_type": "display_data"
    },
    {
     "data": {
      "image/png": "[encoded data removed]",
      "text/plain": [
       "<Figure size 360x360 with 1 Axes>"
      ]
     },
     "metadata": {},
     "output_type": "display_data"
    }
   ],
   "source": [
    "# heteroskedacity\n",
    "\n",
    "fig, ax = plt.subplots(figsize=(5, 5))\n",
    "sns.regplot(\n",
    "    result_98105.fittedvalues, \n",
    "    np.abs(result_98105.resid),\n",
    "    scatter_kws={'alpha': 0.25}, line_kws={'color': 'C1'},\n",
    "    lowess=True, ax=ax)\n",
    "ax.set_xlabel('predicted')\n",
    "ax.set_ylabel('abs(residual)')\n",
    "\n",
    "# Heteroskedasticity indicates that prediction errors differ for differ‐\n",
    "# ent ranges of the predicted value, and may suggest an incomplete\n",
    "# model. For example, the heteroskedasticity in lm_98105 may indi‐\n",
    "# cate that the regression has left something unaccounted for in high-and low-range homes.\n"
   ]
  },
  {
   "cell_type": "markdown",
   "metadata": {},
   "source": [
    "## polynomial regression"
   ]
  },
  {
   "cell_type": "markdown",
   "metadata": {},
   "source": [
    "- Polynomial regression<br>\n",
    "Adds polynomial terms (squares, cubes, etc.) to a regression.<br>\n",
    "- Spline regression<br>\n",
    "Fitting a smooth curve with a series of polynomial segments.<br>\n",
    "- Knots<br>\n",
    "Values that separate spline segments.<br>\n",
    "- Generalized additive models<br>\n",
    "Spline models with automated selection of knots.<br>\n",
    "Synonym: GAM"
   ]
  },
  {
   "cell_type": "markdown",
   "metadata": {},
   "source": [
    "## spline regression"
   ]
  },
  {
   "cell_type": "code",
   "execution_count": null,
   "metadata": {},
   "outputs": [],
   "source": [
    "import statsmodels.formula.api as smf\n",
    "\n",
    "formula = 'AdjSalePrice ~ bs(SqFtTotLiving, df=6, degree=3) + ' +\\\n",
    "    'SqFtLot + Bathrooms + Bedrooms + BldgGrade'\n",
    "model_spline = smf.ols(formula=formula, data=house_98105)\n",
    "result_spline = model_spline.fit()"
   ]
  },
  {
   "cell_type": "markdown",
   "metadata": {},
   "source": [
    "# 5. classification"
   ]
  },
  {
   "cell_type": "markdown",
   "metadata": {},
   "source": [
    "- Accuracy<br>\n",
    "The percent (or proportion) of cases classified correctly.<br>\n",
    "- Confusion matrix<br>\n",
    "A tabular display (2×2 in the binary case) of the record counts by their predicted\n",
    "and actual classification status.<br>\n",
    "- Sensitivity<br>\n",
    "The percent (or proportion) of all 1s that are correctly classified as 1s.<br>\n",
    "Synonym: Recall\n",
    "- Specificity<br>\n",
    "The percent (or proportion) of all 0s that are correctly classified as 0s.<br>\n",
    "- Precision<br>\n",
    "The percent (proportion) of predicted 1s that are actually 1s.<br>\n",
    "- ROC curve<br>\n",
    "A plot of sensitivity versus specificity.<br>\n",
    "- Lift<br>\n",
    "A measure of how effective the model is at identifying (comparatively rare) 1s at\n",
    "different probability cutoffs.<br>"
   ]
  }
 ],
 "metadata": {
  "language_info": {
   "name": "python"
  }
 },
 "nbformat": 4,
 "nbformat_minor": 2
}
