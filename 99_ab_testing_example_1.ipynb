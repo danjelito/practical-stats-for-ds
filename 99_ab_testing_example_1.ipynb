{
 "cells": [
  {
   "cell_type": "code",
   "execution_count": 39,
   "metadata": {},
   "outputs": [],
   "source": [
    "import pandas as pd\n",
    "import numpy as np\n",
    "import matplotlib.pyplot as plt"
   ]
  },
  {
   "cell_type": "markdown",
   "metadata": {},
   "source": [
    "Suppose the Acme Drug Company develops a new drug, designed to prevent colds. The company states that the drug is equally effective for men and women. To test this claim, they choose a a simple random sample of 100 women and 200 men from a population of 100,000 volunteers.\n",
    "\n",
    "At the end of the study, 38% of the women caught a cold; and 51% of the men caught a cold. *Based on these findings, can we reject the company's claim that the drug is equally effective for men and women?* Use a 0.05 level of significance. "
   ]
  },
  {
   "cell_type": "markdown",
   "metadata": {},
   "source": [
    "Null hypothesis: P1 = P2\n",
    "\n",
    "Alternative hypothesis: P1 =/= P2"
   ]
  },
  {
   "cell_type": "code",
   "execution_count": 7,
   "metadata": {},
   "outputs": [
    {
     "data": {
      "text/html": [
       "<div>\n",
       "<style scoped>\n",
       "    .dataframe tbody tr th:only-of-type {\n",
       "        vertical-align: middle;\n",
       "    }\n",
       "\n",
       "    .dataframe tbody tr th {\n",
       "        vertical-align: top;\n",
       "    }\n",
       "\n",
       "    .dataframe thead th {\n",
       "        text-align: right;\n",
       "    }\n",
       "</style>\n",
       "<table border=\"1\" class=\"dataframe\">\n",
       "  <thead>\n",
       "    <tr style=\"text-align: right;\">\n",
       "      <th></th>\n",
       "      <th>men</th>\n",
       "      <th>women</th>\n",
       "    </tr>\n",
       "  </thead>\n",
       "  <tbody>\n",
       "    <tr>\n",
       "      <th>flu</th>\n",
       "      <td>102.0</td>\n",
       "      <td>38.0</td>\n",
       "    </tr>\n",
       "    <tr>\n",
       "      <th>no_flu</th>\n",
       "      <td>98.0</td>\n",
       "      <td>62.0</td>\n",
       "    </tr>\n",
       "  </tbody>\n",
       "</table>\n",
       "</div>"
      ],
      "text/plain": [
       "          men  women\n",
       "flu     102.0   38.0\n",
       "no_flu   98.0   62.0"
      ]
     },
     "execution_count": 7,
     "metadata": {},
     "output_type": "execute_result"
    }
   ],
   "source": [
    "flu = pd.DataFrame({\n",
    "    \"men\": [0.51*200, (1-0.51)*200],\n",
    "    \"women\": [0.38*100, (1-0.38)*100],\n",
    "}, index=[\"flu\", \"no_flu\"])\n",
    "flu"
   ]
  },
  {
   "cell_type": "code",
   "execution_count": 13,
   "metadata": {},
   "outputs": [
    {
     "data": {
      "text/html": [
       "<div>\n",
       "<style scoped>\n",
       "    .dataframe tbody tr th:only-of-type {\n",
       "        vertical-align: middle;\n",
       "    }\n",
       "\n",
       "    .dataframe tbody tr th {\n",
       "        vertical-align: top;\n",
       "    }\n",
       "\n",
       "    .dataframe thead th {\n",
       "        text-align: right;\n",
       "    }\n",
       "</style>\n",
       "<table border=\"1\" class=\"dataframe\">\n",
       "  <thead>\n",
       "    <tr style=\"text-align: right;\">\n",
       "      <th></th>\n",
       "      <th>men</th>\n",
       "      <th>women</th>\n",
       "    </tr>\n",
       "  </thead>\n",
       "  <tbody>\n",
       "    <tr>\n",
       "      <th>flu</th>\n",
       "      <td>0.51</td>\n",
       "      <td>0.38</td>\n",
       "    </tr>\n",
       "    <tr>\n",
       "      <th>no_flu</th>\n",
       "      <td>0.49</td>\n",
       "      <td>0.62</td>\n",
       "    </tr>\n",
       "  </tbody>\n",
       "</table>\n",
       "</div>"
      ],
      "text/plain": [
       "         men  women\n",
       "flu     0.51   0.38\n",
       "no_flu  0.49   0.62"
      ]
     },
     "execution_count": 13,
     "metadata": {},
     "output_type": "execute_result"
    }
   ],
   "source": [
    "flu_proportion = flu / flu.sum(axis=0)\n",
    "flu_proportion"
   ]
  },
  {
   "cell_type": "code",
   "execution_count": 35,
   "metadata": {},
   "outputs": [
    {
     "name": "stdout",
     "output_type": "stream",
     "text": [
      "Observed diff in flu proportion = 0.13\n"
     ]
    }
   ],
   "source": [
    "observed_diff = flu_proportion.loc[\"flu\", \"men\"] - flu_proportion.loc[\"flu\", \"women\"]\n",
    "print(f\"Observed diff in flu proportion = {observed_diff}\")"
   ]
  },
  {
   "cell_type": "code",
   "execution_count": 19,
   "metadata": {},
   "outputs": [
    {
     "name": "stdout",
     "output_type": "stream",
     "text": [
      "flu       140.0\n",
      "no_flu    160.0\n",
      "dtype: float64\n",
      "\n",
      "\n",
      "men      200.0\n",
      "women    100.0\n",
      "dtype: float64\n"
     ]
    }
   ],
   "source": [
    "print(flu.sum(axis=1))\n",
    "print(\"\\n\")\n",
    "print(flu.sum(axis=0))"
   ]
  },
  {
   "cell_type": "code",
   "execution_count": 77,
   "metadata": {},
   "outputs": [
    {
     "data": {
      "image/png": "[encoded data removed]",
      "text/plain": [
       "<Figure size 640x480 with 1 Axes>"
      ]
     },
     "metadata": {},
     "output_type": "display_data"
    }
   ],
   "source": [
    "# create a box of flu\n",
    "num_flu = 140\n",
    "num_no_flu = 160\n",
    "box = [1] * 140 + [0] * 160\n",
    "\n",
    "num_men = 200\n",
    "num_women = 100\n",
    "\n",
    "def ab_test_permut_func(box, num_men, num_women):\n",
    "    # randomly assign box to 200 men and 100 women\n",
    "    np.random.shuffle(box)\n",
    "    men_sample = box[:num_men]\n",
    "    women_sample = box[num_men:]\n",
    "    assert men_sample + women_sample == box\n",
    "\n",
    "    # get the proportion of flu from each sample group\n",
    "    men_sample_flu_prop = np.sum(men_sample) / num_men\n",
    "    women_sample_flu_prop = np.sum(women_sample) / num_women\n",
    "\n",
    "    return men_sample_flu_prop - women_sample_flu_prop\n",
    "\n",
    "# permutation test\n",
    "perm_diffs = [ab_test_permut_func(box, num_men, num_women) for _ in range(1_000)]\n",
    "\n",
    "# plot result\n",
    "plt.hist(perm_diffs, bins= 10)\n",
    "\n",
    "# p-value of 2-tailed test\n",
    "area_right_of_observed = np.mean(perm_diffs > observed_diff)\n",
    "area_left_of_observed = np.mean(perm_diffs < -observed_diff)\n",
    "p_value = area_right_of_observed + area_left_of_observed\n",
    "plt.title(f\"p-value = {p_value}\")\n",
    "\n",
    "plt.axvline(x=observed_diff, color='red')\n",
    "plt.axvline(x=-observed_diff, color='red')\n",
    "plt.show()"
   ]
  },
  {
   "cell_type": "markdown",
   "metadata": {},
   "source": [
    "Since the P-value is less than the significance level (0.05), we cannot accept the null hypothesis."
   ]
  }
 ],
 "metadata": {
  "kernelspec": {
   "display_name": "data-science",
   "language": "python",
   "name": "python3"
  },
  "language_info": {
   "codemirror_mode": {
    "name": "ipython",
    "version": 3
   },
   "file_extension": ".py",
   "mimetype": "text/x-python",
   "name": "python",
   "nbconvert_exporter": "python",
   "pygments_lexer": "ipython3",
   "version": "3.11.5"
  }
 },
 "nbformat": 4,
 "nbformat_minor": 2
}
