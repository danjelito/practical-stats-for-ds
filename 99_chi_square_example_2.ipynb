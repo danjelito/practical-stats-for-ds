{
 "cells": [
  {
   "cell_type": "code",
   "execution_count": 242,
   "metadata": {},
   "outputs": [],
   "source": [
    "import pandas as pd\n",
    "import numpy as np"
   ]
  },
  {
   "cell_type": "markdown",
   "metadata": {},
   "source": [
    "# Walk Through"
   ]
  },
  {
   "cell_type": "markdown",
   "metadata": {},
   "source": [
    "Suppose you are testing three different headlines—A, B, and C—and you run them\n",
    "each on 1,000 visitors, with the results shown in Table 3-4."
   ]
  },
  {
   "cell_type": "code",
   "execution_count": 260,
   "metadata": {},
   "outputs": [
    {
     "data": {
      "text/html": [
       "<div>\n",
       "<style scoped>\n",
       "    .dataframe tbody tr th:only-of-type {\n",
       "        vertical-align: middle;\n",
       "    }\n",
       "\n",
       "    .dataframe tbody tr th {\n",
       "        vertical-align: top;\n",
       "    }\n",
       "\n",
       "    .dataframe thead th {\n",
       "        text-align: right;\n",
       "    }\n",
       "</style>\n",
       "<table border=\"1\" class=\"dataframe\">\n",
       "  <thead>\n",
       "    <tr style=\"text-align: right;\">\n",
       "      <th></th>\n",
       "      <th>headline a</th>\n",
       "      <th>headline b</th>\n",
       "      <th>headline c</th>\n",
       "    </tr>\n",
       "  </thead>\n",
       "  <tbody>\n",
       "    <tr>\n",
       "      <th>click</th>\n",
       "      <td>14</td>\n",
       "      <td>8</td>\n",
       "      <td>12</td>\n",
       "    </tr>\n",
       "    <tr>\n",
       "      <th>no click</th>\n",
       "      <td>986</td>\n",
       "      <td>992</td>\n",
       "      <td>988</td>\n",
       "    </tr>\n",
       "  </tbody>\n",
       "</table>\n",
       "</div>"
      ],
      "text/plain": [
       "          headline a  headline b  headline c\n",
       "click             14           8          12\n",
       "no click         986         992         988"
      ]
     },
     "execution_count": 260,
     "metadata": {},
     "output_type": "execute_result"
    }
   ],
   "source": [
    "headline = pd.DataFrame({\n",
    "    \"headline a\": [14, 986],\n",
    "    \"headline b\": [8, 992],\n",
    "    \"headline c\": [12, 988],\n",
    "}, index=[\"click\", \"no click\"])\n",
    "headline"
   ]
  },
  {
   "cell_type": "markdown",
   "metadata": {},
   "source": [
    "The headlines certainly appear to differ. Headline A returns nearly twice the click rate\n",
    "of B. The actual numbers are small, though. \n",
    "\n",
    "A resampling procedure can test whether\n",
    "the click rates differ to an extent greater than chance might cause. For this test, we\n",
    "need to have the “expected” distribution of clicks, and in this case, that would be\n",
    "under the null hypothesis assumption that all three headlines share the same click\n",
    "rate, for an overall click rate of 34/3,000. Under this assumption, our contingency\n",
    "table would look like Table 3-5."
   ]
  },
  {
   "cell_type": "code",
   "execution_count": 261,
   "metadata": {},
   "outputs": [
    {
     "data": {
      "text/html": [
       "<div>\n",
       "<style scoped>\n",
       "    .dataframe tbody tr th:only-of-type {\n",
       "        vertical-align: middle;\n",
       "    }\n",
       "\n",
       "    .dataframe tbody tr th {\n",
       "        vertical-align: top;\n",
       "    }\n",
       "\n",
       "    .dataframe thead th {\n",
       "        text-align: right;\n",
       "    }\n",
       "</style>\n",
       "<table border=\"1\" class=\"dataframe\">\n",
       "  <thead>\n",
       "    <tr style=\"text-align: right;\">\n",
       "      <th></th>\n",
       "      <th>headline a</th>\n",
       "      <th>headline b</th>\n",
       "      <th>headline c</th>\n",
       "    </tr>\n",
       "  </thead>\n",
       "  <tbody>\n",
       "    <tr>\n",
       "      <th>click</th>\n",
       "      <td>11.333333</td>\n",
       "      <td>11.333333</td>\n",
       "      <td>11.333333</td>\n",
       "    </tr>\n",
       "    <tr>\n",
       "      <th>no click</th>\n",
       "      <td>988.666667</td>\n",
       "      <td>988.666667</td>\n",
       "      <td>988.666667</td>\n",
       "    </tr>\n",
       "  </tbody>\n",
       "</table>\n",
       "</div>"
      ],
      "text/plain": [
       "          headline a  headline b  headline c\n",
       "click      11.333333   11.333333   11.333333\n",
       "no click  988.666667  988.666667  988.666667"
      ]
     },
     "execution_count": 261,
     "metadata": {},
     "output_type": "execute_result"
    }
   ],
   "source": [
    "headline_expected = pd.DataFrame({\n",
    "    \"headline a\": np.mean(headline, axis=1), \n",
    "    \"headline b\": np.mean(headline, axis=1), \n",
    "    \"headline c\": np.mean(headline, axis=1), \n",
    "})\n",
    "headline_expected"
   ]
  },
  {
   "cell_type": "markdown",
   "metadata": {},
   "source": [
    "Now measure the pearson residual, which is defined as\n",
    "\n",
    "$R = \\frac{{\\text{{Observed}} - \\text{{Expected}}}}{{\\sqrt{\\text{{Expected}}}}}$"
   ]
  },
  {
   "cell_type": "code",
   "execution_count": 269,
   "metadata": {},
   "outputs": [
    {
     "data": {
      "text/html": [
       "<div>\n",
       "<style scoped>\n",
       "    .dataframe tbody tr th:only-of-type {\n",
       "        vertical-align: middle;\n",
       "    }\n",
       "\n",
       "    .dataframe tbody tr th {\n",
       "        vertical-align: top;\n",
       "    }\n",
       "\n",
       "    .dataframe thead th {\n",
       "        text-align: right;\n",
       "    }\n",
       "</style>\n",
       "<table border=\"1\" class=\"dataframe\">\n",
       "  <thead>\n",
       "    <tr style=\"text-align: right;\">\n",
       "      <th></th>\n",
       "      <th>headline a</th>\n",
       "      <th>headline b</th>\n",
       "      <th>headline c</th>\n",
       "    </tr>\n",
       "  </thead>\n",
       "  <tbody>\n",
       "    <tr>\n",
       "      <th>click</th>\n",
       "      <td>0.792118</td>\n",
       "      <td>-0.990148</td>\n",
       "      <td>0.198030</td>\n",
       "    </tr>\n",
       "    <tr>\n",
       "      <th>no click</th>\n",
       "      <td>-0.084809</td>\n",
       "      <td>0.106012</td>\n",
       "      <td>-0.021202</td>\n",
       "    </tr>\n",
       "  </tbody>\n",
       "</table>\n",
       "</div>"
      ],
      "text/plain": [
       "          headline a  headline b  headline c\n",
       "click       0.792118   -0.990148    0.198030\n",
       "no click   -0.084809    0.106012   -0.021202"
      ]
     },
     "execution_count": 269,
     "metadata": {},
     "output_type": "execute_result"
    }
   ],
   "source": [
    "(headline.values - headline_expected.values) / np.sqrt(headline_expected)"
   ]
  },
  {
   "cell_type": "markdown",
   "metadata": {},
   "source": [
    "Then, the chi-square statistic is defined as the sum of the squared Pearson residuals."
   ]
  },
  {
   "cell_type": "code",
   "execution_count": 279,
   "metadata": {},
   "outputs": [
    {
     "data": {
      "text/plain": [
       "1.6659394708658917"
      ]
     },
     "execution_count": 279,
     "metadata": {},
     "output_type": "execute_result"
    }
   ],
   "source": [
    "np.sum(\n",
    "    ((headline.values - headline_expected.values) / np.sqrt(headline_expected.values)) ** 2\n",
    ")"
   ]
  },
  {
   "cell_type": "markdown",
   "metadata": {},
   "source": [
    "The chi-square statistic for this example is 1.666. Is that more than could reasonably occur in a chance\n",
    "model? We can test with this resampling algorithm:\n",
    "1. Constitute a box with 34 ones (clicks) and 2,966 zeros (no clicks).\n",
    "2. Shuffle, take three separate samples of 1,000, and count the clicks in each.\n",
    "3. Find the squared differences between the shuffled counts and the expected\n",
    "counts and sum them.\n",
    "4. Repeat steps 2 and 3, say, 1,000 times.\n",
    "5. How often does the resampled sum of squared deviations exceed the observed?\n",
    "That’s the p-value."
   ]
  },
  {
   "cell_type": "markdown",
   "metadata": {},
   "source": [
    "# With Resampling"
   ]
  },
  {
   "cell_type": "code",
   "execution_count": 300,
   "metadata": {},
   "outputs": [
    {
     "name": "stdout",
     "output_type": "stream",
     "text": [
      "Chi-square stats = 1.6659394708658917\n"
     ]
    }
   ],
   "source": [
    "observed = headline.values\n",
    "expected = np.mean(observed, axis=1).reshape((2, 1))\n",
    "\n",
    "def chi_square(observed, expected):\n",
    "    pearson_res = (observed - expected) / np.sqrt(expected)\n",
    "    chi_square_stat = np.sum(pearson_res ** 2)\n",
    "    return chi_square_stat\n",
    "\n",
    "observed_chi_square = chi_square(observed, expected)\n",
    "print(f\"Chi-square stats = {observed_chi_square}\")"
   ]
  },
  {
   "cell_type": "code",
   "execution_count": 301,
   "metadata": {},
   "outputs": [
    {
     "name": "stdout",
     "output_type": "stream",
     "text": [
      "Observed chi2: 1.6659\n",
      "Resampled p-value: 0.4609\n"
     ]
    }
   ],
   "source": [
    "num_click = np.sum(headline, axis=1)[\"click\"]\n",
    "num_no_click = np.sum(headline, axis=1)[\"no click\"]\n",
    "box = np.array([1] * num_click + [0] * num_no_click)\n",
    "\n",
    "def chi_square_permutation(box, num_iter=1000):\n",
    "\n",
    "    chi_square_stats = []\n",
    "    for _ in range(num_iter):\n",
    "        # random shuffle the box\n",
    "        np.random.shuffle(box)\n",
    "\n",
    "        # sample for each headline, sum to get the number of click\n",
    "        # assign 1000 samples to each headline by reshaping (3000, ) to (3, 1000)\n",
    "        sample_clicks = box.reshape((3, -1)).sum(axis=1)\n",
    "        # the remaining is no click\n",
    "        sample_no_clicks = 1000 - sample_clicks\n",
    "\n",
    "        # merge the samples, get the observed and expected\n",
    "        all_samples = np.array([sample_clicks, sample_no_clicks])\n",
    "        observed = all_samples\n",
    "        expected = np.mean(observed, axis=1).reshape((2, 1))\n",
    "\n",
    "        chi_square_stat = chi_square(observed, expected)\n",
    "        chi_square_stats.append(chi_square_stat)\n",
    "    return chi_square_stats\n",
    "\n",
    "# this will return 10_000 chi square of resampled data\n",
    "perm_chi_square = chi_square_permutation(box, 10_000)\n",
    "# how often, in ratio, the resampled chi square exceed the onserved chi square\n",
    "resampled_p_val = np.sum(perm_chi_square > observed_chi_square) / len(perm_chi_square)\n",
    "\n",
    "print(f'Observed chi2: {observed_chi_square:.4f}')\n",
    "print(f'Resampled p-value: {resampled_p_val:.4f}')"
   ]
  },
  {
   "cell_type": "markdown",
   "metadata": {},
   "source": [
    "p-value > 0.05. This means that we cannot reject H0."
   ]
  },
  {
   "cell_type": "markdown",
   "metadata": {},
   "source": [
    "# With Chi-Square Distribution"
   ]
  },
  {
   "cell_type": "code",
   "execution_count": 241,
   "metadata": {},
   "outputs": [
    {
     "name": "stdout",
     "output_type": "stream",
     "text": [
      "chi2: 1.6659\n",
      "p-value: 0.4348\n"
     ]
    }
   ],
   "source": [
    "from scipy.stats import chi2_contingency\n",
    "\n",
    "chisq, pvalue, df, expected = chi2_contingency(headline.values)\n",
    "print(f'chi2: {chisq:.4f}')\n",
    "print(f'p-value: {pvalue:.4f}')"
   ]
  }
 ],
 "metadata": {
  "kernelspec": {
   "display_name": "data-science",
   "language": "python",
   "name": "python3"
  },
  "language_info": {
   "codemirror_mode": {
    "name": "ipython",
    "version": 3
   },
   "file_extension": ".py",
   "mimetype": "text/x-python",
   "name": "python",
   "nbconvert_exporter": "python",
   "pygments_lexer": "ipython3",
   "version": "3.12.2"
  }
 },
 "nbformat": 4,
 "nbformat_minor": 2
}
